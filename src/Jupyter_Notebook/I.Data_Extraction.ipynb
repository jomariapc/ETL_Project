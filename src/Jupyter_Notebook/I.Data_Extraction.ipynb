{
 "cells": [
  {
   "cell_type": "markdown",
   "metadata": {},
   "source": [
    "# <a id='toc1_'></a>[I. Data Extraction](#toc0_)\n",
    "\n",
    "**Table of contents**<a id='toc0_'></a>    \n",
    "- [I. Data Extraction](#toc1_)    \n",
    "    - [Import Libraries and PyPower.py](#toc1_1_1_)    \n",
    "    - [Scrapping](#toc1_1_2_)    \n",
    "      - [Declare options (cookies are needed)](#toc1_1_2_1_)    \n",
    "      - [Select time: month to date](#toc1_1_2_2_)    \n",
    "      - [Export option](#toc1_1_2_3_)    "
   ]
  },
  {
   "cell_type": "markdown",
   "metadata": {},
   "source": [
    "### <a id='toc1_1_1_'></a>[Import Libraries and PyPower.py](#toc0_)"
   ]
  },
  {
   "cell_type": "code",
   "execution_count": 1,
   "metadata": {},
   "outputs": [],
   "source": [
    "import pandas as pd\n",
    "\n",
    "import time\n",
    "\n",
    "import warnings\n",
    "\n",
    "import os\n",
    "\n",
    "warnings.filterwarnings('ignore')\n",
    "\n",
    "from selenium import webdriver\n",
    "\n",
    "from selenium.webdriver.common.by import By"
   ]
  },
  {
   "cell_type": "markdown",
   "metadata": {},
   "source": [
    "### <a id='toc1_1_2_'></a>[Scrapping](#toc0_)"
   ]
  },
  {
   "cell_type": "markdown",
   "metadata": {},
   "source": [
    "#### <a id='toc1_1_2_1_'></a>[Declare options (cookies are needed)](#toc0_)"
   ]
  },
  {
   "cell_type": "code",
   "execution_count": 2,
   "metadata": {},
   "outputs": [],
   "source": [
    "from selenium.webdriver.chrome.options import Options\n",
    "\n",
    "# opciones del driver\n",
    "opciones=Options()\n",
    "\n",
    "# quita la bandera de ser robot\n",
    "opciones.add_experimental_option('excludeSwitches', ['enable-automation'])\n",
    "opciones.add_experimental_option('useAutomationExtension', False)\n",
    "\n",
    "opciones.add_experimental_option(\"detach\", True)\n",
    "\n",
    "\n",
    "opciones.add_argument(r'user-data-dir=C:\\Users\\Mjp\\Documents\\IronhackLocal\\0-Projects\\ETL_Project\\src\\cookies')   \n"
   ]
  },
  {
   "cell_type": "code",
   "execution_count": 3,
   "metadata": {},
   "outputs": [],
   "source": [
    "#Use cookies to login \n",
    "\n",
    "driver = webdriver.Chrome(executable_path=r'C:\\Users\\Mjp\\Documents\\IronhackLocal\\0-Projects\\ETL_Project\\driver\\chromedriver.exe', options=opciones)"
   ]
  },
  {
   "cell_type": "code",
   "execution_count": 4,
   "metadata": {},
   "outputs": [],
   "source": [
    "url='https://manager.tryotter.com/analytics/reports/order-details'\n",
    "\n",
    "driver.get(url)"
   ]
  },
  {
   "cell_type": "markdown",
   "metadata": {},
   "source": [
    "#### <a id='toc1_1_2_2_'></a>[Select time: month to date](#toc0_)"
   ]
  },
  {
   "cell_type": "code",
   "execution_count": 5,
   "metadata": {},
   "outputs": [],
   "source": [
    "def recorrer_click(objeto, texto_comparacion):\n",
    "    \"\"\"\n",
    "     \n",
    "    Function that scrolls through the object with the buttons \n",
    "    and as soon as it finds the text it receives, then it clicks  \n",
    "       \n",
    "     \"\"\"\n",
    "    for o in objeto:\n",
    "\n",
    "        if(o.text==texto_comparacion):\n",
    "\n",
    "            o.click()\n",
    "        "
   ]
  },
  {
   "cell_type": "code",
   "execution_count": 6,
   "metadata": {},
   "outputs": [],
   "source": [
    "#Open date options\n",
    "\n",
    "cabecera = driver.find_element(By.XPATH, '//*[@id=\"heading-slot\"]')\n",
    "\n",
    "time.sleep(2)\n",
    "\n",
    "#Select the button that says \"Last 7 days\".\n",
    "\n",
    "recorrer_click(cabecera.find_elements(By.XPATH, '//div//button'), 'Últimos 7 días')\n",
    "\n",
    "time.sleep(2)\n",
    "\n",
    "#Select \"Month to date\".\n",
    "caja= cabecera.find_elements(By.XPATH, '//div//ul//li')\n",
    "\n",
    "recorrer_click(caja, 'Mes hasta la fecha')\n",
    "\n",
    "time.sleep(2)"
   ]
  },
  {
   "cell_type": "markdown",
   "metadata": {},
   "source": [
    "#### <a id='toc1_1_2_3_'></a>[Export option](#toc0_)"
   ]
  },
  {
   "cell_type": "code",
   "execution_count": 22,
   "metadata": {},
   "outputs": [],
   "source": [
    "#CLICK ON EXPORT BUTTON (Through data-testid which is usually a constant attribute)\n",
    "\n",
    "driver.find_element(By.CSS_SELECTOR, '[data-testid=\"export-button\"]').click()\n"
   ]
  },
  {
   "cell_type": "code",
   "execution_count": 39,
   "metadata": {},
   "outputs": [],
   "source": [
    "#CLICK ON CSV TYPE\n",
    "caja_opciones_exportar = driver.find_elements(By.CSS_SELECTOR, '[data-testid=\"export-button-panel-content\"]')\n",
    "\n",
    "botones_exportar = driver.find_elements(By.CSS_SELECTOR, '[data-testid=\"csds-menu-item\"]' )\n",
    "\n",
    "#CLICK ON EXPORT BUTTON\n",
    "for o in caja_opciones_exportar:\n",
    "\n",
    "    try:\n",
    "        o.click()\n",
    "\n",
    "    except:\n",
    "        print('Fallo en la exportación')"
   ]
  },
  {
   "cell_type": "code",
   "execution_count": 40,
   "metadata": {},
   "outputs": [],
   "source": [
    "#ChatGPT Code\n",
    "\n",
    "# Get list of CSV files in download directory\n",
    "archivos_csv = [archivo for archivo in os.listdir(r'C:\\Users\\Mjp\\Downloads') if archivo.endswith('.csv')]\n",
    "\n",
    "if archivos_csv:\n",
    "    ultimo_archivo = max(archivos_csv, key=lambda x: os.path.getmtime(os.path.join(r'C:\\Users\\Mjp\\Downloads', x)))\n",
    "    ruta_ultimo_archivo = os.path.join(r'C:\\Users\\Mjp\\Downloads', ultimo_archivo)\n",
    "\n",
    "    #End of ChatGPT code\n",
    "    #Use pandas to be able to save the file with the name I want (this is personal code).\n",
    "    df= pd.read_csv(ruta_ultimo_archivo)\n",
    "\n",
    "    df.to_csv('../data/0-raw/otter_all.csv')\n",
    "    \n",
    "else:\n",
    "    print(\"No se encontraron archivos CSV en la carpeta de descargas.\")\n"
   ]
  },
  {
   "cell_type": "code",
   "execution_count": 8,
   "metadata": {},
   "outputs": [],
   "source": [
    "driver.quit()"
   ]
  }
 ],
 "metadata": {
  "kernelspec": {
   "display_name": "clase",
   "language": "python",
   "name": "python3"
  },
  "language_info": {
   "codemirror_mode": {
    "name": "ipython",
    "version": 3
   },
   "file_extension": ".py",
   "mimetype": "text/x-python",
   "name": "python",
   "nbconvert_exporter": "python",
   "pygments_lexer": "ipython3",
   "version": "3.10.13"
  }
 },
 "nbformat": 4,
 "nbformat_minor": 2
}
