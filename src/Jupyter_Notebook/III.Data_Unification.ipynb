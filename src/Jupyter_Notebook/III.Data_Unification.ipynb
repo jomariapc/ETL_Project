{
 "cells": [
  {
   "cell_type": "markdown",
   "metadata": {},
   "source": [
    "# II. Data_Unification"
   ]
  },
  {
   "cell_type": "markdown",
   "metadata": {},
   "source": [
    "Índice"
   ]
  },
  {
   "cell_type": "markdown",
   "metadata": {},
   "source": [
    "### Import Libraries and PyPower.py "
   ]
  },
  {
   "cell_type": "code",
   "execution_count": 1,
   "id": "912445ae-4630-4391-bd2a-ad711d8040b2",
   "metadata": {},
   "outputs": [],
   "source": [
    "import pandas as pd\n",
    "from sys import displayhook\n",
    "import sys\n",
    "sys.path.append('../Python')\n",
    "from  PyPower import *"
   ]
  },
  {
   "cell_type": "markdown",
   "metadata": {},
   "source": [
    "### Otter DataFrame"
   ]
  },
  {
   "cell_type": "code",
   "execution_count": 2,
   "metadata": {},
   "outputs": [
    {
     "data": {
      "text/html": [
       "<div>\n",
       "<style scoped>\n",
       "    .dataframe tbody tr th:only-of-type {\n",
       "        vertical-align: middle;\n",
       "    }\n",
       "\n",
       "    .dataframe tbody tr th {\n",
       "        vertical-align: top;\n",
       "    }\n",
       "\n",
       "    .dataframe thead th {\n",
       "        text-align: right;\n",
       "    }\n",
       "</style>\n",
       "<table border=\"1\" class=\"dataframe\">\n",
       "  <thead>\n",
       "    <tr style=\"text-align: right;\">\n",
       "      <th></th>\n",
       "      <th>fecha</th>\n",
       "      <th>marca</th>\n",
       "      <th>local</th>\n",
       "      <th>canal</th>\n",
       "      <th>id_orden</th>\n",
       "      <th>estado_orden</th>\n",
       "      <th>subtotal</th>\n",
       "      <th>impuesto</th>\n",
       "      <th>descuento</th>\n",
       "    </tr>\n",
       "  </thead>\n",
       "  <tbody>\n",
       "    <tr>\n",
       "      <th>0</th>\n",
       "      <td>2023-11-03 15:55:55</td>\n",
       "      <td>Umbrella SH</td>\n",
       "      <td>EMEA - SP - MAD - Tetuan</td>\n",
       "      <td>justeat</td>\n",
       "      <td>138656463</td>\n",
       "      <td>Nuevo</td>\n",
       "      <td>10</td>\n",
       "      <td>0</td>\n",
       "      <td>0</td>\n",
       "    </tr>\n",
       "    <tr>\n",
       "      <th>1</th>\n",
       "      <td>2023-11-03 15:49:40</td>\n",
       "      <td>Umbrella SH</td>\n",
       "      <td>EMEA - SP - MAD - Tetuan</td>\n",
       "      <td>justeat</td>\n",
       "      <td>138656912</td>\n",
       "      <td>Nuevo</td>\n",
       "      <td>22,4</td>\n",
       "      <td>0</td>\n",
       "      <td>0</td>\n",
       "    </tr>\n",
       "    <tr>\n",
       "      <th>2</th>\n",
       "      <td>2023-11-03 15:49:02</td>\n",
       "      <td>Umbrella SH</td>\n",
       "      <td>EMEA - SP - MAD - Tetuan</td>\n",
       "      <td>glovo</td>\n",
       "      <td>MSDGW9UM</td>\n",
       "      <td>Entregado</td>\n",
       "      <td>10,4</td>\n",
       "      <td>0</td>\n",
       "      <td>0</td>\n",
       "    </tr>\n",
       "    <tr>\n",
       "      <th>3</th>\n",
       "      <td>2023-11-03 15:48:41</td>\n",
       "      <td>Umbrella SH</td>\n",
       "      <td>Umbrella SH - Calle Linares</td>\n",
       "      <td>ubereats</td>\n",
       "      <td>8D40B</td>\n",
       "      <td>Nuevo</td>\n",
       "      <td>36,6</td>\n",
       "      <td>0</td>\n",
       "      <td>-13,9</td>\n",
       "    </tr>\n",
       "    <tr>\n",
       "      <th>4</th>\n",
       "      <td>2023-11-03 15:44:25</td>\n",
       "      <td>Umbrella SH</td>\n",
       "      <td>Goleta</td>\n",
       "      <td>ubereats</td>\n",
       "      <td>DF131</td>\n",
       "      <td>Entregado</td>\n",
       "      <td>31,8</td>\n",
       "      <td>0</td>\n",
       "      <td>-13,9</td>\n",
       "    </tr>\n",
       "  </tbody>\n",
       "</table>\n",
       "</div>"
      ],
      "text/plain": [
       "                 fecha        marca                        local     canal  \\\n",
       "0  2023-11-03 15:55:55  Umbrella SH     EMEA - SP - MAD - Tetuan   justeat   \n",
       "1  2023-11-03 15:49:40  Umbrella SH     EMEA - SP - MAD - Tetuan   justeat   \n",
       "2  2023-11-03 15:49:02  Umbrella SH     EMEA - SP - MAD - Tetuan     glovo   \n",
       "3  2023-11-03 15:48:41  Umbrella SH  Umbrella SH - Calle Linares  ubereats   \n",
       "4  2023-11-03 15:44:25  Umbrella SH                       Goleta  ubereats   \n",
       "\n",
       "    id_orden estado_orden subtotal impuesto descuento  \n",
       "0  138656463        Nuevo       10        0         0  \n",
       "1  138656912        Nuevo     22,4        0         0  \n",
       "2   MSDGW9UM    Entregado     10,4        0         0  \n",
       "3      8D40B        Nuevo     36,6        0     -13,9  \n",
       "4      DF131    Entregado     31,8        0     -13,9  "
      ]
     },
     "execution_count": 2,
     "metadata": {},
     "output_type": "execute_result"
    }
   ],
   "source": [
    "otter = pd.read_csv('../../data/1-clean/otter_clean.csv')\n",
    "otter_original_shape= otter.shape\n",
    "otter.head()"
   ]
  },
  {
   "cell_type": "code",
   "execution_count": 3,
   "metadata": {},
   "outputs": [
    {
     "data": {
      "text/html": [
       "<div>\n",
       "<style scoped>\n",
       "    .dataframe tbody tr th:only-of-type {\n",
       "        vertical-align: middle;\n",
       "    }\n",
       "\n",
       "    .dataframe tbody tr th {\n",
       "        vertical-align: top;\n",
       "    }\n",
       "\n",
       "    .dataframe thead th {\n",
       "        text-align: right;\n",
       "    }\n",
       "</style>\n",
       "<table border=\"1\" class=\"dataframe\">\n",
       "  <thead>\n",
       "    <tr style=\"text-align: right;\">\n",
       "      <th></th>\n",
       "      <th>fecha</th>\n",
       "      <th>marca</th>\n",
       "      <th>local</th>\n",
       "      <th>canal</th>\n",
       "      <th>id_orden</th>\n",
       "      <th>estado_orden</th>\n",
       "      <th>subtotal</th>\n",
       "      <th>impuesto</th>\n",
       "      <th>descuento</th>\n",
       "    </tr>\n",
       "  </thead>\n",
       "  <tbody>\n",
       "    <tr>\n",
       "      <th>count</th>\n",
       "      <td>534</td>\n",
       "      <td>528</td>\n",
       "      <td>534</td>\n",
       "      <td>534</td>\n",
       "      <td>534</td>\n",
       "      <td>534</td>\n",
       "      <td>534</td>\n",
       "      <td>534</td>\n",
       "      <td>534</td>\n",
       "    </tr>\n",
       "    <tr>\n",
       "      <th>unique</th>\n",
       "      <td>530</td>\n",
       "      <td>3</td>\n",
       "      <td>8</td>\n",
       "      <td>4</td>\n",
       "      <td>534</td>\n",
       "      <td>3</td>\n",
       "      <td>253</td>\n",
       "      <td>18</td>\n",
       "      <td>13</td>\n",
       "    </tr>\n",
       "    <tr>\n",
       "      <th>top</th>\n",
       "      <td>2023-11-01 20:23:57</td>\n",
       "      <td>Umbrella SH</td>\n",
       "      <td>EMEA - SP - MAD - Tetuan</td>\n",
       "      <td>ubereats</td>\n",
       "      <td>138656463</td>\n",
       "      <td>Entregado</td>\n",
       "      <td>31,8</td>\n",
       "      <td>0</td>\n",
       "      <td>0</td>\n",
       "    </tr>\n",
       "    <tr>\n",
       "      <th>freq</th>\n",
       "      <td>2</td>\n",
       "      <td>443</td>\n",
       "      <td>132</td>\n",
       "      <td>353</td>\n",
       "      <td>1</td>\n",
       "      <td>464</td>\n",
       "      <td>35</td>\n",
       "      <td>517</td>\n",
       "      <td>315</td>\n",
       "    </tr>\n",
       "  </tbody>\n",
       "</table>\n",
       "</div>"
      ],
      "text/plain": [
       "                      fecha        marca                     local     canal  \\\n",
       "count                   534          528                       534       534   \n",
       "unique                  530            3                         8         4   \n",
       "top     2023-11-01 20:23:57  Umbrella SH  EMEA - SP - MAD - Tetuan  ubereats   \n",
       "freq                      2          443                       132       353   \n",
       "\n",
       "         id_orden estado_orden subtotal impuesto descuento  \n",
       "count         534          534      534      534       534  \n",
       "unique        534            3      253       18        13  \n",
       "top     138656463    Entregado     31,8        0         0  \n",
       "freq            1          464       35      517       315  "
      ]
     },
     "execution_count": 3,
     "metadata": {},
     "output_type": "execute_result"
    }
   ],
   "source": [
    "otter.describe(include='all')"
   ]
  },
  {
   "cell_type": "markdown",
   "metadata": {},
   "source": [
    "#### Columns marca and local (delete rows)\n",
    "For the scope of the project, we will select only the brands \"Tepuy Burger\" and \"Tepuy Basics\", and localization in \"Tepuy\" only"
   ]
  },
  {
   "cell_type": "code",
   "execution_count": 4,
   "metadata": {},
   "outputs": [
    {
     "data": {
      "text/plain": [
       "marca\n",
       "Umbrella SH     443\n",
       "Tepuy Burger     60\n",
       "Tepuy Basics     25\n",
       "Name: count, dtype: int64"
      ]
     },
     "execution_count": 4,
     "metadata": {},
     "output_type": "execute_result"
    }
   ],
   "source": [
    "otter.marca.value_counts()"
   ]
  },
  {
   "cell_type": "code",
   "execution_count": 5,
   "metadata": {},
   "outputs": [
    {
     "data": {
      "text/plain": [
       "marca\n",
       "Tepuy Burger    60\n",
       "Tepuy Basics    25\n",
       "Name: count, dtype: int64"
      ]
     },
     "execution_count": 5,
     "metadata": {},
     "output_type": "execute_result"
    }
   ],
   "source": [
    "filtered_df = otter[otter['marca'].isin(['Tepuy Burger', 'Tepuy Basics'])]\n",
    "\n",
    "filtered_df.marca.value_counts()"
   ]
  },
  {
   "cell_type": "code",
   "execution_count": 6,
   "metadata": {},
   "outputs": [],
   "source": [
    "otter = filtered_df.copy()"
   ]
  },
  {
   "cell_type": "code",
   "execution_count": 7,
   "metadata": {},
   "outputs": [
    {
     "data": {
      "text/plain": [
       "local\n",
       "Tepuy Burger - Rodolfo Salazar          29\n",
       "Tepuy Burger - Benidorm                 22\n",
       "Tepuy Burger - Calle Bazan               9\n",
       "Umbrella SH - San Vicent del Raspeig     9\n",
       "Goleta                                   8\n",
       "EMEA - SP - MAD - Salamanca              5\n",
       "Umbrella SH - Calle Linares              3\n",
       "Name: count, dtype: int64"
      ]
     },
     "execution_count": 7,
     "metadata": {},
     "output_type": "execute_result"
    }
   ],
   "source": [
    "otter.local.value_counts()"
   ]
  },
  {
   "cell_type": "code",
   "execution_count": 8,
   "metadata": {},
   "outputs": [
    {
     "data": {
      "text/plain": [
       "local\n",
       "Tepuy Burger - Rodolfo Salazar    29\n",
       "Tepuy Burger - Benidorm           22\n",
       "Tepuy Burger - Calle Bazan         9\n",
       "Name: count, dtype: int64"
      ]
     },
     "execution_count": 8,
     "metadata": {},
     "output_type": "execute_result"
    }
   ],
   "source": [
    "filtered_df = otter[otter['local'].isin(['Tepuy Burger - Rodolfo Salazar', 'Tepuy Burger - Benidorm', 'Tepuy Burger - Calle Bazan'])]\n",
    "\n",
    "filtered_df.local.value_counts()"
   ]
  },
  {
   "cell_type": "code",
   "execution_count": 9,
   "metadata": {},
   "outputs": [],
   "source": [
    "otter = filtered_df.copy()"
   ]
  },
  {
   "cell_type": "markdown",
   "metadata": {},
   "source": [
    "#### Columns Float Subtotal"
   ]
  },
  {
   "cell_type": "code",
   "execution_count": 10,
   "metadata": {},
   "outputs": [],
   "source": [
    "#The data is going a SQL database, so we need the numbers with . instead of ,\n",
    "otter.subtotal = otter.subtotal.apply(replace_to, change_for=',', change_to='.')\n",
    "otter.impuesto = otter.impuesto.apply(replace_to, change_for=',', change_to='.')\n",
    "otter.descuento = otter.descuento.apply(replace_to, change_for=',', change_to='.')"
   ]
  },
  {
   "cell_type": "code",
   "execution_count": 11,
   "metadata": {},
   "outputs": [
    {
     "data": {
      "text/html": [
       "<div>\n",
       "<style scoped>\n",
       "    .dataframe tbody tr th:only-of-type {\n",
       "        vertical-align: middle;\n",
       "    }\n",
       "\n",
       "    .dataframe tbody tr th {\n",
       "        vertical-align: top;\n",
       "    }\n",
       "\n",
       "    .dataframe thead th {\n",
       "        text-align: right;\n",
       "    }\n",
       "</style>\n",
       "<table border=\"1\" class=\"dataframe\">\n",
       "  <thead>\n",
       "    <tr style=\"text-align: right;\">\n",
       "      <th></th>\n",
       "      <th>fecha</th>\n",
       "      <th>marca</th>\n",
       "      <th>local</th>\n",
       "      <th>canal</th>\n",
       "      <th>id_orden</th>\n",
       "      <th>estado_orden</th>\n",
       "      <th>subtotal</th>\n",
       "      <th>impuesto</th>\n",
       "      <th>descuento</th>\n",
       "    </tr>\n",
       "  </thead>\n",
       "  <tbody>\n",
       "    <tr>\n",
       "      <th>count</th>\n",
       "      <td>60</td>\n",
       "      <td>60</td>\n",
       "      <td>60</td>\n",
       "      <td>60</td>\n",
       "      <td>60</td>\n",
       "      <td>60</td>\n",
       "      <td>60</td>\n",
       "      <td>60</td>\n",
       "      <td>60</td>\n",
       "    </tr>\n",
       "    <tr>\n",
       "      <th>unique</th>\n",
       "      <td>58</td>\n",
       "      <td>1</td>\n",
       "      <td>3</td>\n",
       "      <td>3</td>\n",
       "      <td>60</td>\n",
       "      <td>3</td>\n",
       "      <td>50</td>\n",
       "      <td>2</td>\n",
       "      <td>3</td>\n",
       "    </tr>\n",
       "    <tr>\n",
       "      <th>top</th>\n",
       "      <td>2023-11-01 20:14:55</td>\n",
       "      <td>Tepuy Burger</td>\n",
       "      <td>Tepuy Burger - Rodolfo Salazar</td>\n",
       "      <td>glovo</td>\n",
       "      <td>AULRBGNM</td>\n",
       "      <td>Entregado</td>\n",
       "      <td>26.9</td>\n",
       "      <td>0</td>\n",
       "      <td>0</td>\n",
       "    </tr>\n",
       "    <tr>\n",
       "      <th>freq</th>\n",
       "      <td>2</td>\n",
       "      <td>60</td>\n",
       "      <td>29</td>\n",
       "      <td>41</td>\n",
       "      <td>1</td>\n",
       "      <td>54</td>\n",
       "      <td>3</td>\n",
       "      <td>59</td>\n",
       "      <td>58</td>\n",
       "    </tr>\n",
       "  </tbody>\n",
       "</table>\n",
       "</div>"
      ],
      "text/plain": [
       "                      fecha         marca                           local  \\\n",
       "count                    60            60                              60   \n",
       "unique                   58             1                               3   \n",
       "top     2023-11-01 20:14:55  Tepuy Burger  Tepuy Burger - Rodolfo Salazar   \n",
       "freq                      2            60                              29   \n",
       "\n",
       "        canal  id_orden estado_orden subtotal impuesto descuento  \n",
       "count      60        60           60       60       60        60  \n",
       "unique      3        60            3       50        2         3  \n",
       "top     glovo  AULRBGNM    Entregado     26.9        0         0  \n",
       "freq       41         1           54        3       59        58  "
      ]
     },
     "execution_count": 11,
     "metadata": {},
     "output_type": "execute_result"
    }
   ],
   "source": [
    "otter.describe()"
   ]
  },
  {
   "cell_type": "markdown",
   "metadata": {},
   "source": [
    "#### Rename columns to english names"
   ]
  },
  {
   "cell_type": "code",
   "execution_count": 12,
   "metadata": {},
   "outputs": [],
   "source": [
    "columns_to_rename={'fecha':'created_datetime',\n",
    "                   'marca':'brand',\n",
    "                   'local':'location',\n",
    "                   'canal':'channel',\n",
    "                   'id_orden':'id_order',\n",
    "                   'impuesto':'vat',\n",
    "                   'descuento':'discount',\n",
    "                   'estado_orden':'status'}\n",
    "\n",
    "otter = rename_columns(otter, columns_to_rename)\n"
   ]
  },
  {
   "cell_type": "code",
   "execution_count": 13,
   "metadata": {},
   "outputs": [
    {
     "data": {
      "text/html": [
       "<div>\n",
       "<style scoped>\n",
       "    .dataframe tbody tr th:only-of-type {\n",
       "        vertical-align: middle;\n",
       "    }\n",
       "\n",
       "    .dataframe tbody tr th {\n",
       "        vertical-align: top;\n",
       "    }\n",
       "\n",
       "    .dataframe thead th {\n",
       "        text-align: right;\n",
       "    }\n",
       "</style>\n",
       "<table border=\"1\" class=\"dataframe\">\n",
       "  <thead>\n",
       "    <tr style=\"text-align: right;\">\n",
       "      <th></th>\n",
       "      <th>created_datetime</th>\n",
       "      <th>brand</th>\n",
       "      <th>location</th>\n",
       "      <th>channel</th>\n",
       "      <th>id_order</th>\n",
       "      <th>status</th>\n",
       "      <th>subtotal</th>\n",
       "      <th>vat</th>\n",
       "      <th>discount</th>\n",
       "    </tr>\n",
       "  </thead>\n",
       "  <tbody>\n",
       "    <tr>\n",
       "      <th>16</th>\n",
       "      <td>2023-11-03 14:46:46</td>\n",
       "      <td>Tepuy Burger</td>\n",
       "      <td>Tepuy Burger - Rodolfo Salazar</td>\n",
       "      <td>glovo</td>\n",
       "      <td>AULRBGNM</td>\n",
       "      <td>Entregado</td>\n",
       "      <td>26.9</td>\n",
       "      <td>0</td>\n",
       "      <td>0</td>\n",
       "    </tr>\n",
       "    <tr>\n",
       "      <th>18</th>\n",
       "      <td>2023-11-03 14:40:15</td>\n",
       "      <td>Tepuy Burger</td>\n",
       "      <td>Tepuy Burger - Benidorm</td>\n",
       "      <td>glovo</td>\n",
       "      <td>B1YBHZJW</td>\n",
       "      <td>Entregado</td>\n",
       "      <td>51.5</td>\n",
       "      <td>0</td>\n",
       "      <td>0</td>\n",
       "    </tr>\n",
       "    <tr>\n",
       "      <th>22</th>\n",
       "      <td>2023-11-03 14:23:06</td>\n",
       "      <td>Tepuy Burger</td>\n",
       "      <td>Tepuy Burger - Rodolfo Salazar</td>\n",
       "      <td>glovo</td>\n",
       "      <td>ALMVLKTB</td>\n",
       "      <td>Entregado</td>\n",
       "      <td>26.9</td>\n",
       "      <td>0</td>\n",
       "      <td>0</td>\n",
       "    </tr>\n",
       "    <tr>\n",
       "      <th>50</th>\n",
       "      <td>2023-11-02 22:32:27</td>\n",
       "      <td>Tepuy Burger</td>\n",
       "      <td>Tepuy Burger - Benidorm</td>\n",
       "      <td>glovo</td>\n",
       "      <td>BXVJAQHE</td>\n",
       "      <td>Entregado</td>\n",
       "      <td>40.9</td>\n",
       "      <td>0</td>\n",
       "      <td>0</td>\n",
       "    </tr>\n",
       "    <tr>\n",
       "      <th>53</th>\n",
       "      <td>2023-11-02 22:28:20</td>\n",
       "      <td>Tepuy Burger</td>\n",
       "      <td>Tepuy Burger - Calle Bazan</td>\n",
       "      <td>glovo</td>\n",
       "      <td>ABUGGFKZ</td>\n",
       "      <td>Cancelado</td>\n",
       "      <td>20.4</td>\n",
       "      <td>0</td>\n",
       "      <td>0</td>\n",
       "    </tr>\n",
       "  </tbody>\n",
       "</table>\n",
       "</div>"
      ],
      "text/plain": [
       "       created_datetime         brand                        location channel  \\\n",
       "16  2023-11-03 14:46:46  Tepuy Burger  Tepuy Burger - Rodolfo Salazar   glovo   \n",
       "18  2023-11-03 14:40:15  Tepuy Burger         Tepuy Burger - Benidorm   glovo   \n",
       "22  2023-11-03 14:23:06  Tepuy Burger  Tepuy Burger - Rodolfo Salazar   glovo   \n",
       "50  2023-11-02 22:32:27  Tepuy Burger         Tepuy Burger - Benidorm   glovo   \n",
       "53  2023-11-02 22:28:20  Tepuy Burger      Tepuy Burger - Calle Bazan   glovo   \n",
       "\n",
       "    id_order     status subtotal vat discount  \n",
       "16  AULRBGNM  Entregado     26.9   0        0  \n",
       "18  B1YBHZJW  Entregado     51.5   0        0  \n",
       "22  ALMVLKTB  Entregado     26.9   0        0  \n",
       "50  BXVJAQHE  Entregado     40.9   0        0  \n",
       "53  ABUGGFKZ  Cancelado     20.4   0        0  "
      ]
     },
     "execution_count": 13,
     "metadata": {},
     "output_type": "execute_result"
    }
   ],
   "source": [
    "otter.head()"
   ]
  },
  {
   "cell_type": "code",
   "execution_count": 14,
   "metadata": {},
   "outputs": [
    {
     "name": "stdout",
     "output_type": "stream",
     "text": [
      "<class 'pandas.core.frame.DataFrame'>\n",
      "Index: 60 entries, 16 to 509\n",
      "Data columns (total 9 columns):\n",
      " #   Column            Non-Null Count  Dtype \n",
      "---  ------            --------------  ----- \n",
      " 0   created_datetime  60 non-null     object\n",
      " 1   brand             60 non-null     object\n",
      " 2   location          60 non-null     object\n",
      " 3   channel           60 non-null     object\n",
      " 4   id_order          60 non-null     object\n",
      " 5   status            60 non-null     object\n",
      " 6   subtotal          60 non-null     object\n",
      " 7   vat               60 non-null     object\n",
      " 8   discount          60 non-null     object\n",
      "dtypes: object(9)\n",
      "memory usage: 4.7+ KB\n"
     ]
    }
   ],
   "source": [
    "otter.info()"
   ]
  },
  {
   "cell_type": "markdown",
   "metadata": {},
   "source": [
    "#### Columns subtotal, vat and discount are object type and they should be float"
   ]
  },
  {
   "cell_type": "code",
   "execution_count": 15,
   "metadata": {},
   "outputs": [],
   "source": [
    "#PyPower method\n",
    "otter= change_type(otter, 'subtotal', 'object','float')\n",
    "otter= change_type(otter, 'vat', 'object','float')\n",
    "otter= change_type(otter, 'discount', 'object','float') "
   ]
  },
  {
   "cell_type": "markdown",
   "metadata": {},
   "source": [
    "### Deliverect DataFrame"
   ]
  },
  {
   "cell_type": "code",
   "execution_count": 16,
   "metadata": {},
   "outputs": [
    {
     "data": {
      "text/html": [
       "<div>\n",
       "<style scoped>\n",
       "    .dataframe tbody tr th:only-of-type {\n",
       "        vertical-align: middle;\n",
       "    }\n",
       "\n",
       "    .dataframe tbody tr th {\n",
       "        vertical-align: top;\n",
       "    }\n",
       "\n",
       "    .dataframe thead th {\n",
       "        text-align: right;\n",
       "    }\n",
       "</style>\n",
       "<table border=\"1\" class=\"dataframe\">\n",
       "  <thead>\n",
       "    <tr style=\"text-align: right;\">\n",
       "      <th></th>\n",
       "      <th>createdtimeutc</th>\n",
       "      <th>location</th>\n",
       "      <th>orderid</th>\n",
       "      <th>channel</th>\n",
       "      <th>status</th>\n",
       "      <th>type</th>\n",
       "      <th>payment</th>\n",
       "      <th>paymentamount</th>\n",
       "      <th>deliverycost</th>\n",
       "      <th>discounttotal</th>\n",
       "      <th>tip</th>\n",
       "      <th>drivertip</th>\n",
       "      <th>subtotal</th>\n",
       "      <th>vat</th>\n",
       "    </tr>\n",
       "  </thead>\n",
       "  <tbody>\n",
       "    <tr>\n",
       "      <th>0</th>\n",
       "      <td>2023-10-31 21:31:15</td>\n",
       "      <td>Alicante - Bazan</td>\n",
       "      <td>138509659</td>\n",
       "      <td>Just Eat</td>\n",
       "      <td>ACCEPTED</td>\n",
       "      <td>DELIVERY</td>\n",
       "      <td>CARD</td>\n",
       "      <td>85.39</td>\n",
       "      <td>1.99</td>\n",
       "      <td>0.0</td>\n",
       "      <td>0.0</td>\n",
       "      <td>0.0</td>\n",
       "      <td>83.4</td>\n",
       "      <td>7.57</td>\n",
       "    </tr>\n",
       "    <tr>\n",
       "      <th>1</th>\n",
       "      <td>2023-10-31 21:02:26</td>\n",
       "      <td>Alicante - Periodista Rodolfo Salazar</td>\n",
       "      <td>138502564</td>\n",
       "      <td>Just Eat</td>\n",
       "      <td>DELIVERED</td>\n",
       "      <td>DELIVERY</td>\n",
       "      <td>CARD</td>\n",
       "      <td>41.89</td>\n",
       "      <td>1.99</td>\n",
       "      <td>0.0</td>\n",
       "      <td>0.0</td>\n",
       "      <td>0.0</td>\n",
       "      <td>39.9</td>\n",
       "      <td>3.62</td>\n",
       "    </tr>\n",
       "    <tr>\n",
       "      <th>2</th>\n",
       "      <td>2023-10-29 20:20:15</td>\n",
       "      <td>Alicante - Periodista Rodolfo Salazar</td>\n",
       "      <td>138409768</td>\n",
       "      <td>Just Eat</td>\n",
       "      <td>DELIVERED</td>\n",
       "      <td>DELIVERY</td>\n",
       "      <td>CARD</td>\n",
       "      <td>31.09</td>\n",
       "      <td>1.99</td>\n",
       "      <td>0.0</td>\n",
       "      <td>0.0</td>\n",
       "      <td>0.0</td>\n",
       "      <td>29.1</td>\n",
       "      <td>2.65</td>\n",
       "    </tr>\n",
       "    <tr>\n",
       "      <th>3</th>\n",
       "      <td>2023-10-29 19:53:10</td>\n",
       "      <td>Alicante - Periodista Rodolfo Salazar</td>\n",
       "      <td>138402233</td>\n",
       "      <td>Just Eat</td>\n",
       "      <td>DELIVERED</td>\n",
       "      <td>DELIVERY</td>\n",
       "      <td>CARD</td>\n",
       "      <td>19.69</td>\n",
       "      <td>1.99</td>\n",
       "      <td>0.0</td>\n",
       "      <td>0.0</td>\n",
       "      <td>0.0</td>\n",
       "      <td>17.7</td>\n",
       "      <td>1.61</td>\n",
       "    </tr>\n",
       "    <tr>\n",
       "      <th>4</th>\n",
       "      <td>2023-10-29 19:28:17</td>\n",
       "      <td>Alicante - Periodista Rodolfo Salazar</td>\n",
       "      <td>138390234</td>\n",
       "      <td>Just Eat</td>\n",
       "      <td>DELIVERED</td>\n",
       "      <td>DELIVERY</td>\n",
       "      <td>CARD</td>\n",
       "      <td>15.99</td>\n",
       "      <td>2.99</td>\n",
       "      <td>0.0</td>\n",
       "      <td>0.0</td>\n",
       "      <td>0.0</td>\n",
       "      <td>13.0</td>\n",
       "      <td>1.19</td>\n",
       "    </tr>\n",
       "  </tbody>\n",
       "</table>\n",
       "</div>"
      ],
      "text/plain": [
       "        createdtimeutc                               location    orderid  \\\n",
       "0  2023-10-31 21:31:15                       Alicante - Bazan  138509659   \n",
       "1  2023-10-31 21:02:26  Alicante - Periodista Rodolfo Salazar  138502564   \n",
       "2  2023-10-29 20:20:15  Alicante - Periodista Rodolfo Salazar  138409768   \n",
       "3  2023-10-29 19:53:10  Alicante - Periodista Rodolfo Salazar  138402233   \n",
       "4  2023-10-29 19:28:17  Alicante - Periodista Rodolfo Salazar  138390234   \n",
       "\n",
       "    channel     status      type payment  paymentamount  deliverycost  \\\n",
       "0  Just Eat   ACCEPTED  DELIVERY    CARD          85.39          1.99   \n",
       "1  Just Eat  DELIVERED  DELIVERY    CARD          41.89          1.99   \n",
       "2  Just Eat  DELIVERED  DELIVERY    CARD          31.09          1.99   \n",
       "3  Just Eat  DELIVERED  DELIVERY    CARD          19.69          1.99   \n",
       "4  Just Eat  DELIVERED  DELIVERY    CARD          15.99          2.99   \n",
       "\n",
       "   discounttotal  tip  drivertip  subtotal   vat  \n",
       "0            0.0  0.0        0.0      83.4  7.57  \n",
       "1            0.0  0.0        0.0      39.9  3.62  \n",
       "2            0.0  0.0        0.0      29.1  2.65  \n",
       "3            0.0  0.0        0.0      17.7  1.61  \n",
       "4            0.0  0.0        0.0      13.0  1.19  "
      ]
     },
     "execution_count": 16,
     "metadata": {},
     "output_type": "execute_result"
    }
   ],
   "source": [
    "deliverect = pd.read_csv('../../data/1-clean/deliverect_clean.csv')\n",
    "deliverect_original_shape= otter.shape\n",
    "deliverect.head()"
   ]
  },
  {
   "cell_type": "code",
   "execution_count": 17,
   "metadata": {},
   "outputs": [
    {
     "name": "stdout",
     "output_type": "stream",
     "text": [
      "<class 'pandas.core.frame.DataFrame'>\n",
      "RangeIndex: 62 entries, 0 to 61\n",
      "Data columns (total 14 columns):\n",
      " #   Column          Non-Null Count  Dtype  \n",
      "---  ------          --------------  -----  \n",
      " 0   createdtimeutc  62 non-null     object \n",
      " 1   location        62 non-null     object \n",
      " 2   orderid         62 non-null     int64  \n",
      " 3   channel         62 non-null     object \n",
      " 4   status          62 non-null     object \n",
      " 5   type            62 non-null     object \n",
      " 6   payment         62 non-null     object \n",
      " 7   paymentamount   62 non-null     float64\n",
      " 8   deliverycost    62 non-null     float64\n",
      " 9   discounttotal   62 non-null     float64\n",
      " 10  tip             62 non-null     float64\n",
      " 11  drivertip       62 non-null     float64\n",
      " 12  subtotal        62 non-null     float64\n",
      " 13  vat             62 non-null     float64\n",
      "dtypes: float64(7), int64(1), object(6)\n",
      "memory usage: 6.9+ KB\n"
     ]
    }
   ],
   "source": [
    "deliverect.info()"
   ]
  },
  {
   "cell_type": "markdown",
   "metadata": {},
   "source": [
    "##### For the project, the customer only wants to unify the data from the delivery platforms\n",
    "Delete where type is not DELIVERY"
   ]
  },
  {
   "cell_type": "code",
   "execution_count": 18,
   "metadata": {},
   "outputs": [],
   "source": [
    "filtered_df = deliverect[deliverect['type']=='DELIVERY']\n",
    "\n",
    "deliverect = filtered_df.copy()"
   ]
  },
  {
   "cell_type": "markdown",
   "metadata": {},
   "source": [
    "##### Unify columns names"
   ]
  },
  {
   "cell_type": "code",
   "execution_count": 62,
   "metadata": {},
   "outputs": [],
   "source": [
    "columns_to_rename={'createdtimeutc':'created_datetime',\n",
    "                   'payment':'payment_method',\n",
    "                   'paymentamount':'total',\n",
    "                   'deliverycost':'delivery_cost',\n",
    "                   'orderid':'id_order',\n",
    "                   'discounttotal':'discount',\n",
    "                   'drivertip':'driver_tip'}\n",
    "\n",
    "deliverect = rename_columns(deliverect, columns_to_rename)\n"
   ]
  },
  {
   "cell_type": "code",
   "execution_count": 63,
   "metadata": {},
   "outputs": [
    {
     "data": {
      "text/html": [
       "<div>\n",
       "<style scoped>\n",
       "    .dataframe tbody tr th:only-of-type {\n",
       "        vertical-align: middle;\n",
       "    }\n",
       "\n",
       "    .dataframe tbody tr th {\n",
       "        vertical-align: top;\n",
       "    }\n",
       "\n",
       "    .dataframe thead th {\n",
       "        text-align: right;\n",
       "    }\n",
       "</style>\n",
       "<table border=\"1\" class=\"dataframe\">\n",
       "  <thead>\n",
       "    <tr style=\"text-align: right;\">\n",
       "      <th></th>\n",
       "      <th>id_order</th>\n",
       "      <th>created_datetime</th>\n",
       "      <th>brand</th>\n",
       "      <th>location</th>\n",
       "      <th>channel</th>\n",
       "      <th>status</th>\n",
       "      <th>type</th>\n",
       "      <th>payment_method</th>\n",
       "      <th>total</th>\n",
       "      <th>delivery_cost</th>\n",
       "      <th>discount</th>\n",
       "      <th>tip</th>\n",
       "      <th>driver_tip</th>\n",
       "      <th>vat</th>\n",
       "      <th>subtotal</th>\n",
       "    </tr>\n",
       "  </thead>\n",
       "  <tbody>\n",
       "    <tr>\n",
       "      <th>0</th>\n",
       "      <td>138509659</td>\n",
       "      <td>2023-10-31 21:31:15</td>\n",
       "      <td>Tepuy Burger</td>\n",
       "      <td>Alicante - Bazan</td>\n",
       "      <td>Just Eat</td>\n",
       "      <td>ACCEPTED</td>\n",
       "      <td>DELIVERY</td>\n",
       "      <td>CARD</td>\n",
       "      <td>85.39</td>\n",
       "      <td>1.99</td>\n",
       "      <td>0.0</td>\n",
       "      <td>0.0</td>\n",
       "      <td>0.0</td>\n",
       "      <td>7.57</td>\n",
       "      <td>83.4</td>\n",
       "    </tr>\n",
       "    <tr>\n",
       "      <th>1</th>\n",
       "      <td>138502564</td>\n",
       "      <td>2023-10-31 21:02:26</td>\n",
       "      <td>Tepuy Burger</td>\n",
       "      <td>Alicante - Periodista Rodolfo Salazar</td>\n",
       "      <td>Just Eat</td>\n",
       "      <td>DELIVERED</td>\n",
       "      <td>DELIVERY</td>\n",
       "      <td>CARD</td>\n",
       "      <td>41.89</td>\n",
       "      <td>1.99</td>\n",
       "      <td>0.0</td>\n",
       "      <td>0.0</td>\n",
       "      <td>0.0</td>\n",
       "      <td>3.62</td>\n",
       "      <td>39.9</td>\n",
       "    </tr>\n",
       "    <tr>\n",
       "      <th>2</th>\n",
       "      <td>138409768</td>\n",
       "      <td>2023-10-29 20:20:15</td>\n",
       "      <td>Tepuy Burger</td>\n",
       "      <td>Alicante - Periodista Rodolfo Salazar</td>\n",
       "      <td>Just Eat</td>\n",
       "      <td>DELIVERED</td>\n",
       "      <td>DELIVERY</td>\n",
       "      <td>CARD</td>\n",
       "      <td>31.09</td>\n",
       "      <td>1.99</td>\n",
       "      <td>0.0</td>\n",
       "      <td>0.0</td>\n",
       "      <td>0.0</td>\n",
       "      <td>2.65</td>\n",
       "      <td>29.1</td>\n",
       "    </tr>\n",
       "    <tr>\n",
       "      <th>3</th>\n",
       "      <td>138402233</td>\n",
       "      <td>2023-10-29 19:53:10</td>\n",
       "      <td>Tepuy Burger</td>\n",
       "      <td>Alicante - Periodista Rodolfo Salazar</td>\n",
       "      <td>Just Eat</td>\n",
       "      <td>DELIVERED</td>\n",
       "      <td>DELIVERY</td>\n",
       "      <td>CARD</td>\n",
       "      <td>19.69</td>\n",
       "      <td>1.99</td>\n",
       "      <td>0.0</td>\n",
       "      <td>0.0</td>\n",
       "      <td>0.0</td>\n",
       "      <td>1.61</td>\n",
       "      <td>17.7</td>\n",
       "    </tr>\n",
       "    <tr>\n",
       "      <th>4</th>\n",
       "      <td>138390234</td>\n",
       "      <td>2023-10-29 19:28:17</td>\n",
       "      <td>Tepuy Burger</td>\n",
       "      <td>Alicante - Periodista Rodolfo Salazar</td>\n",
       "      <td>Just Eat</td>\n",
       "      <td>DELIVERED</td>\n",
       "      <td>DELIVERY</td>\n",
       "      <td>CARD</td>\n",
       "      <td>15.99</td>\n",
       "      <td>2.99</td>\n",
       "      <td>0.0</td>\n",
       "      <td>0.0</td>\n",
       "      <td>0.0</td>\n",
       "      <td>1.19</td>\n",
       "      <td>13.0</td>\n",
       "    </tr>\n",
       "  </tbody>\n",
       "</table>\n",
       "</div>"
      ],
      "text/plain": [
       "    id_order     created_datetime         brand  \\\n",
       "0  138509659  2023-10-31 21:31:15  Tepuy Burger   \n",
       "1  138502564  2023-10-31 21:02:26  Tepuy Burger   \n",
       "2  138409768  2023-10-29 20:20:15  Tepuy Burger   \n",
       "3  138402233  2023-10-29 19:53:10  Tepuy Burger   \n",
       "4  138390234  2023-10-29 19:28:17  Tepuy Burger   \n",
       "\n",
       "                                location   channel     status      type  \\\n",
       "0                       Alicante - Bazan  Just Eat   ACCEPTED  DELIVERY   \n",
       "1  Alicante - Periodista Rodolfo Salazar  Just Eat  DELIVERED  DELIVERY   \n",
       "2  Alicante - Periodista Rodolfo Salazar  Just Eat  DELIVERED  DELIVERY   \n",
       "3  Alicante - Periodista Rodolfo Salazar  Just Eat  DELIVERED  DELIVERY   \n",
       "4  Alicante - Periodista Rodolfo Salazar  Just Eat  DELIVERED  DELIVERY   \n",
       "\n",
       "  payment_method  total  delivery_cost  discount  tip  driver_tip   vat  \\\n",
       "0           CARD  85.39           1.99       0.0  0.0         0.0  7.57   \n",
       "1           CARD  41.89           1.99       0.0  0.0         0.0  3.62   \n",
       "2           CARD  31.09           1.99       0.0  0.0         0.0  2.65   \n",
       "3           CARD  19.69           1.99       0.0  0.0         0.0  1.61   \n",
       "4           CARD  15.99           2.99       0.0  0.0         0.0  1.19   \n",
       "\n",
       "   subtotal  \n",
       "0      83.4  \n",
       "1      39.9  \n",
       "2      29.1  \n",
       "3      17.7  \n",
       "4      13.0  "
      ]
     },
     "execution_count": 63,
     "metadata": {},
     "output_type": "execute_result"
    }
   ],
   "source": [
    "deliverect.head()"
   ]
  },
  {
   "cell_type": "code",
   "execution_count": 25,
   "metadata": {},
   "outputs": [
    {
     "name": "stdout",
     "output_type": "stream",
     "text": [
      "<class 'pandas.core.frame.DataFrame'>\n",
      "Index: 61 entries, 0 to 61\n",
      "Data columns (total 14 columns):\n",
      " #   Column            Non-Null Count  Dtype  \n",
      "---  ------            --------------  -----  \n",
      " 0   created_datetime  61 non-null     object \n",
      " 1   location          61 non-null     object \n",
      " 2   id_order          61 non-null     object \n",
      " 3   channel           61 non-null     object \n",
      " 4   status            61 non-null     object \n",
      " 5   type              61 non-null     object \n",
      " 6   payment_method    61 non-null     object \n",
      " 7   total             61 non-null     float64\n",
      " 8   delivery_cost     61 non-null     float64\n",
      " 9   discount          61 non-null     float64\n",
      " 10  tip               61 non-null     float64\n",
      " 11  drivertip         61 non-null     float64\n",
      " 12  subtotal          61 non-null     float64\n",
      " 13  vat               61 non-null     float64\n",
      "dtypes: float64(7), object(7)\n",
      "memory usage: 7.1+ KB\n"
     ]
    }
   ],
   "source": [
    "deliverect.info()"
   ]
  },
  {
   "cell_type": "code",
   "execution_count": 29,
   "metadata": {},
   "outputs": [
    {
     "data": {
      "text/plain": [
       "dtype('O')"
      ]
     },
     "execution_count": 29,
     "metadata": {},
     "output_type": "execute_result"
    }
   ],
   "source": [
    "deliverect = change_type(deliverect, 'id_order', 'int64','object')\n",
    "\n",
    "deliverect.id_order.dtype"
   ]
  },
  {
   "cell_type": "code",
   "execution_count": 30,
   "metadata": {},
   "outputs": [
    {
     "data": {
      "text/plain": [
       "location\n",
       "Alicante - Bazan                         32\n",
       "Alicante - Periodista Rodolfo Salazar    29\n",
       "Name: count, dtype: int64"
      ]
     },
     "execution_count": 30,
     "metadata": {},
     "output_type": "execute_result"
    }
   ],
   "source": [
    "deliverect.location.value_counts()"
   ]
  },
  {
   "cell_type": "markdown",
   "metadata": {},
   "source": [
    "### DataFrames final unification\n",
    "The goal is to unify all columns and types and then join both of the DataFrames"
   ]
  },
  {
   "cell_type": "code",
   "execution_count": 72,
   "metadata": {},
   "outputs": [
    {
     "data": {
      "text/html": [
       "<div>\n",
       "<style scoped>\n",
       "    .dataframe tbody tr th:only-of-type {\n",
       "        vertical-align: middle;\n",
       "    }\n",
       "\n",
       "    .dataframe tbody tr th {\n",
       "        vertical-align: top;\n",
       "    }\n",
       "\n",
       "    .dataframe thead th {\n",
       "        text-align: right;\n",
       "    }\n",
       "</style>\n",
       "<table border=\"1\" class=\"dataframe\">\n",
       "  <thead>\n",
       "    <tr style=\"text-align: right;\">\n",
       "      <th></th>\n",
       "      <th>id_order</th>\n",
       "      <th>created_datetime</th>\n",
       "      <th>brand</th>\n",
       "      <th>location</th>\n",
       "      <th>channel</th>\n",
       "      <th>status</th>\n",
       "      <th>subtotal</th>\n",
       "      <th>vat</th>\n",
       "      <th>discount</th>\n",
       "      <th>type</th>\n",
       "      <th>payment_method</th>\n",
       "      <th>delivery_cost</th>\n",
       "      <th>total</th>\n",
       "      <th>tip</th>\n",
       "      <th>driver_tip</th>\n",
       "    </tr>\n",
       "  </thead>\n",
       "  <tbody>\n",
       "    <tr>\n",
       "      <th>16</th>\n",
       "      <td>AULRBGNM</td>\n",
       "      <td>2023-11-03 14:46:46</td>\n",
       "      <td>Tepuy Burger</td>\n",
       "      <td>Tepuy Burger - Rodolfo Salazar</td>\n",
       "      <td>glovo</td>\n",
       "      <td>Entregado</td>\n",
       "      <td>26.9</td>\n",
       "      <td>0.0</td>\n",
       "      <td>0.0</td>\n",
       "      <td>DELIVERY</td>\n",
       "      <td>CARD</td>\n",
       "      <td>0</td>\n",
       "      <td>26.9</td>\n",
       "      <td>0</td>\n",
       "      <td>0</td>\n",
       "    </tr>\n",
       "    <tr>\n",
       "      <th>18</th>\n",
       "      <td>B1YBHZJW</td>\n",
       "      <td>2023-11-03 14:40:15</td>\n",
       "      <td>Tepuy Burger</td>\n",
       "      <td>Tepuy Burger - Benidorm</td>\n",
       "      <td>glovo</td>\n",
       "      <td>Entregado</td>\n",
       "      <td>51.5</td>\n",
       "      <td>0.0</td>\n",
       "      <td>0.0</td>\n",
       "      <td>DELIVERY</td>\n",
       "      <td>CARD</td>\n",
       "      <td>0</td>\n",
       "      <td>51.5</td>\n",
       "      <td>0</td>\n",
       "      <td>0</td>\n",
       "    </tr>\n",
       "  </tbody>\n",
       "</table>\n",
       "</div>"
      ],
      "text/plain": [
       "    id_order     created_datetime         brand  \\\n",
       "16  AULRBGNM  2023-11-03 14:46:46  Tepuy Burger   \n",
       "18  B1YBHZJW  2023-11-03 14:40:15  Tepuy Burger   \n",
       "\n",
       "                          location channel     status  subtotal  vat  \\\n",
       "16  Tepuy Burger - Rodolfo Salazar   glovo  Entregado      26.9  0.0   \n",
       "18         Tepuy Burger - Benidorm   glovo  Entregado      51.5  0.0   \n",
       "\n",
       "    discount      type payment_method  delivery_cost  total  tip  driver_tip  \n",
       "16       0.0  DELIVERY           CARD              0   26.9    0           0  \n",
       "18       0.0  DELIVERY           CARD              0   51.5    0           0  "
      ]
     },
     "execution_count": 72,
     "metadata": {},
     "output_type": "execute_result"
    }
   ],
   "source": [
    "otter.head(2)"
   ]
  },
  {
   "cell_type": "code",
   "execution_count": 71,
   "metadata": {},
   "outputs": [
    {
     "data": {
      "text/html": [
       "<div>\n",
       "<style scoped>\n",
       "    .dataframe tbody tr th:only-of-type {\n",
       "        vertical-align: middle;\n",
       "    }\n",
       "\n",
       "    .dataframe tbody tr th {\n",
       "        vertical-align: top;\n",
       "    }\n",
       "\n",
       "    .dataframe thead th {\n",
       "        text-align: right;\n",
       "    }\n",
       "</style>\n",
       "<table border=\"1\" class=\"dataframe\">\n",
       "  <thead>\n",
       "    <tr style=\"text-align: right;\">\n",
       "      <th></th>\n",
       "      <th>id_order</th>\n",
       "      <th>created_datetime</th>\n",
       "      <th>brand</th>\n",
       "      <th>location</th>\n",
       "      <th>channel</th>\n",
       "      <th>status</th>\n",
       "      <th>type</th>\n",
       "      <th>payment_method</th>\n",
       "      <th>total</th>\n",
       "      <th>delivery_cost</th>\n",
       "      <th>discount</th>\n",
       "      <th>tip</th>\n",
       "      <th>driver_tip</th>\n",
       "      <th>vat</th>\n",
       "      <th>subtotal</th>\n",
       "    </tr>\n",
       "  </thead>\n",
       "  <tbody>\n",
       "    <tr>\n",
       "      <th>0</th>\n",
       "      <td>138509659</td>\n",
       "      <td>2023-10-31 21:31:15</td>\n",
       "      <td>Tepuy Burger</td>\n",
       "      <td>Alicante - Bazan</td>\n",
       "      <td>Just Eat</td>\n",
       "      <td>ACCEPTED</td>\n",
       "      <td>DELIVERY</td>\n",
       "      <td>CARD</td>\n",
       "      <td>85.39</td>\n",
       "      <td>1.99</td>\n",
       "      <td>0.0</td>\n",
       "      <td>0.0</td>\n",
       "      <td>0.0</td>\n",
       "      <td>7.57</td>\n",
       "      <td>83.4</td>\n",
       "    </tr>\n",
       "    <tr>\n",
       "      <th>1</th>\n",
       "      <td>138502564</td>\n",
       "      <td>2023-10-31 21:02:26</td>\n",
       "      <td>Tepuy Burger</td>\n",
       "      <td>Alicante - Periodista Rodolfo Salazar</td>\n",
       "      <td>Just Eat</td>\n",
       "      <td>DELIVERED</td>\n",
       "      <td>DELIVERY</td>\n",
       "      <td>CARD</td>\n",
       "      <td>41.89</td>\n",
       "      <td>1.99</td>\n",
       "      <td>0.0</td>\n",
       "      <td>0.0</td>\n",
       "      <td>0.0</td>\n",
       "      <td>3.62</td>\n",
       "      <td>39.9</td>\n",
       "    </tr>\n",
       "  </tbody>\n",
       "</table>\n",
       "</div>"
      ],
      "text/plain": [
       "    id_order     created_datetime         brand  \\\n",
       "0  138509659  2023-10-31 21:31:15  Tepuy Burger   \n",
       "1  138502564  2023-10-31 21:02:26  Tepuy Burger   \n",
       "\n",
       "                                location   channel     status      type  \\\n",
       "0                       Alicante - Bazan  Just Eat   ACCEPTED  DELIVERY   \n",
       "1  Alicante - Periodista Rodolfo Salazar  Just Eat  DELIVERED  DELIVERY   \n",
       "\n",
       "  payment_method  total  delivery_cost  discount  tip  driver_tip   vat  \\\n",
       "0           CARD  85.39           1.99       0.0  0.0         0.0  7.57   \n",
       "1           CARD  41.89           1.99       0.0  0.0         0.0  3.62   \n",
       "\n",
       "   subtotal  \n",
       "0      83.4  \n",
       "1      39.9  "
      ]
     },
     "execution_count": 71,
     "metadata": {},
     "output_type": "execute_result"
    }
   ],
   "source": [
    "deliverect.head(2)"
   ]
  },
  {
   "cell_type": "markdown",
   "metadata": {},
   "source": [
    "#### Total columns unification\n",
    "Column 'brand' is not in deliverect\n",
    "Columns 'type','payment_method','total','delivery_cost','tip','drivertip' are not in otter. The client give the information to add"
   ]
  },
  {
   "cell_type": "code",
   "execution_count": 37,
   "metadata": {},
   "outputs": [],
   "source": [
    "#New column to deliverect\n",
    "deliverect['brand']= 'Tepuy Burger'\n",
    "\n",
    "#New columns to otter\n",
    "otter['type']= 'DELIVERY'\n",
    "otter['payment_method']= 'CARD'\n",
    "otter['delivery_cost']= 0\n",
    "otter['total']= otter.subtotal\n",
    "otter['tip']= 0\n",
    "otter['driver_tip']= 0"
   ]
  },
  {
   "cell_type": "markdown",
   "metadata": {},
   "source": [
    "#### Now we order the columns"
   ]
  },
  {
   "cell_type": "code",
   "execution_count": 74,
   "metadata": {},
   "outputs": [],
   "source": [
    "otter = otter[['id_order', 'created_datetime', 'brand', 'location', 'channel','status', 'type',  'total', 'payment_method', 'delivery_cost', 'discount', 'tip', 'driver_tip', 'subtotal', 'vat']]"
   ]
  },
  {
   "cell_type": "code",
   "execution_count": 76,
   "metadata": {},
   "outputs": [],
   "source": [
    "deliverect = deliverect[['id_order', 'created_datetime', 'brand',  'location', 'channel', 'status', 'type', 'total', 'payment_method','delivery_cost', 'discount', 'tip', 'driver_tip', 'subtotal', 'vat']]"
   ]
  },
  {
   "cell_type": "code",
   "execution_count": 86,
   "metadata": {},
   "outputs": [
    {
     "name": "stdout",
     "output_type": "stream",
     "text": [
      "<class 'pandas.core.frame.DataFrame'>\n",
      "Index: 60 entries, 16 to 509\n",
      "Data columns (total 15 columns):\n",
      " #   Column            Non-Null Count  Dtype  \n",
      "---  ------            --------------  -----  \n",
      " 0   id_order          60 non-null     object \n",
      " 1   created_datetime  60 non-null     object \n",
      " 2   brand             60 non-null     object \n",
      " 3   location          60 non-null     object \n",
      " 4   channel           60 non-null     object \n",
      " 5   status            60 non-null     object \n",
      " 6   type              60 non-null     object \n",
      " 7   total             60 non-null     float64\n",
      " 8   payment_method    60 non-null     object \n",
      " 9   delivery_cost     60 non-null     float64\n",
      " 10  discount          60 non-null     float64\n",
      " 11  tip               60 non-null     float64\n",
      " 12  driver_tip        60 non-null     float64\n",
      " 13  subtotal          60 non-null     float64\n",
      " 14  vat               60 non-null     float64\n",
      "dtypes: float64(7), object(8)\n",
      "memory usage: 7.5+ KB\n"
     ]
    }
   ],
   "source": [
    "otter.info()"
   ]
  },
  {
   "cell_type": "code",
   "execution_count": 82,
   "metadata": {},
   "outputs": [
    {
     "name": "stdout",
     "output_type": "stream",
     "text": [
      "<class 'pandas.core.frame.DataFrame'>\n",
      "Index: 61 entries, 0 to 61\n",
      "Data columns (total 15 columns):\n",
      " #   Column            Non-Null Count  Dtype  \n",
      "---  ------            --------------  -----  \n",
      " 0   id_order          61 non-null     object \n",
      " 1   created_datetime  61 non-null     object \n",
      " 2   brand             61 non-null     object \n",
      " 3   location          61 non-null     object \n",
      " 4   channel           61 non-null     object \n",
      " 5   status            61 non-null     object \n",
      " 6   type              61 non-null     object \n",
      " 7   total             61 non-null     float64\n",
      " 8   payment_method    61 non-null     object \n",
      " 9   delivery_cost     61 non-null     float64\n",
      " 10  discount          61 non-null     float64\n",
      " 11  tip               61 non-null     float64\n",
      " 12  driver_tip        61 non-null     float64\n",
      " 13  subtotal          61 non-null     float64\n",
      " 14  vat               61 non-null     float64\n",
      "dtypes: float64(7), object(8)\n",
      "memory usage: 7.6+ KB\n"
     ]
    }
   ],
   "source": [
    "deliverect.info()"
   ]
  },
  {
   "cell_type": "markdown",
   "metadata": {},
   "source": [
    "#### Unification of location column and "
   ]
  },
  {
   "cell_type": "code",
   "execution_count": null,
   "metadata": {},
   "outputs": [],
   "source": []
  },
  {
   "cell_type": "code",
   "execution_count": null,
   "metadata": {},
   "outputs": [],
   "source": []
  },
  {
   "cell_type": "code",
   "execution_count": null,
   "metadata": {},
   "outputs": [],
   "source": []
  },
  {
   "cell_type": "markdown",
   "metadata": {},
   "source": [
    "### Export DataFrame"
   ]
  },
  {
   "cell_type": "code",
   "execution_count": 23,
   "metadata": {},
   "outputs": [],
   "source": [
    "otter.to_csv('../../data/2-processed/otter_processed.csv', index=False)\n",
    "deliverect.to_csv('../../data/2-processed/deliverect_processed.csv', index=False)"
   ]
  }
 ],
 "metadata": {
  "kernelspec": {
   "display_name": "clase",
   "language": "python",
   "name": "python3"
  },
  "language_info": {
   "codemirror_mode": {
    "name": "ipython",
    "version": 3
   },
   "file_extension": ".py",
   "mimetype": "text/x-python",
   "name": "python",
   "nbconvert_exporter": "python",
   "pygments_lexer": "ipython3",
   "version": "3.10.13"
  }
 },
 "nbformat": 4,
 "nbformat_minor": 5
}
