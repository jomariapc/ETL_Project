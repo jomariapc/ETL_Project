{
 "cells": [
  {
   "cell_type": "markdown",
   "metadata": {},
   "source": [
    "# <a id='toc1_'></a>[II. Data_Unification](#toc0_)\n",
    "\n",
    "**Table of contents**<a id='toc0_'></a>    \n",
    "- [II. Data_Unification](#toc1_)    \n",
    "    - [Import Libraries and PyPower.py](#toc1_1_1_)    \n",
    "    - [Otter DataFrame](#toc1_1_2_)    \n",
    "      - [Columns marca and local (delete rows)](#toc1_1_2_1_)    \n",
    "      - [Columns Float Subtotal](#toc1_1_2_2_)    \n",
    "      - [Rename columns to english names](#toc1_1_2_3_)    \n",
    "      - [Columns subtotal, vat and discount are object type and they should be float](#toc1_1_2_4_)    \n",
    "    - [Deliverect DataFrame](#toc1_1_3_)    \n",
    "        - [For the project, the customer only wants to unify the data from the delivery platforms](#toc1_1_3_1_1_)    \n",
    "        - [Unify columns names](#toc1_1_3_1_2_)    \n",
    "    - [DataFrames final unification](#toc1_1_4_)    \n",
    "      - [Total columns unification](#toc1_1_4_1_)    \n",
    "      - [Now we order the columns](#toc1_1_4_2_)    \n",
    "      - [Unification of status column](#toc1_1_4_3_)    \n",
    "      - [Unification of location](#toc1_1_4_4_)    \n",
    "    - [Export DataFrame](#toc1_1_5_)    \n",
    "\n",
    "<!-- vscode-jupyter-toc-config\n",
    "\tnumbering=false\n",
    "\tanchor=true\n",
    "\tflat=false\n",
    "\tminLevel=1\n",
    "\tmaxLevel=6\n",
    "\t/vscode-jupyter-toc-config -->\n",
    "<!-- THIS CELL WILL BE REPLACED ON TOC UPDATE. DO NOT WRITE YOUR TEXT IN THIS CELL -->"
   ]
  },
  {
   "cell_type": "markdown",
   "metadata": {},
   "source": [
    "### <a id='toc1_1_1_'></a>[Import Libraries and PyPower.py](#toc0_)"
   ]
  },
  {
   "cell_type": "code",
   "execution_count": 1,
   "id": "912445ae-4630-4391-bd2a-ad711d8040b2",
   "metadata": {},
   "outputs": [],
   "source": [
    "import pandas as pd\n",
    "from sys import displayhook\n",
    "import sys\n",
    "sys.path.append('../Python')\n",
    "from  PyPower import *"
   ]
  },
  {
   "cell_type": "markdown",
   "metadata": {},
   "source": [
    "### <a id='toc1_1_2_'></a>[Otter DataFrame](#toc0_)"
   ]
  },
  {
   "cell_type": "code",
   "execution_count": 2,
   "metadata": {},
   "outputs": [
    {
     "data": {
      "text/html": [
       "<div>\n",
       "<style scoped>\n",
       "    .dataframe tbody tr th:only-of-type {\n",
       "        vertical-align: middle;\n",
       "    }\n",
       "\n",
       "    .dataframe tbody tr th {\n",
       "        vertical-align: top;\n",
       "    }\n",
       "\n",
       "    .dataframe thead th {\n",
       "        text-align: right;\n",
       "    }\n",
       "</style>\n",
       "<table border=\"1\" class=\"dataframe\">\n",
       "  <thead>\n",
       "    <tr style=\"text-align: right;\">\n",
       "      <th></th>\n",
       "      <th>fecha</th>\n",
       "      <th>marca</th>\n",
       "      <th>local</th>\n",
       "      <th>canal</th>\n",
       "      <th>id_orden</th>\n",
       "      <th>estado_orden</th>\n",
       "      <th>subtotal</th>\n",
       "      <th>impuesto</th>\n",
       "      <th>descuento</th>\n",
       "    </tr>\n",
       "  </thead>\n",
       "  <tbody>\n",
       "    <tr>\n",
       "      <th>0</th>\n",
       "      <td>2023-11-03 15:55:55</td>\n",
       "      <td>Umbrella SH</td>\n",
       "      <td>EMEA - SP - MAD - Tetuan</td>\n",
       "      <td>justeat</td>\n",
       "      <td>138656463</td>\n",
       "      <td>Nuevo</td>\n",
       "      <td>10</td>\n",
       "      <td>0</td>\n",
       "      <td>0</td>\n",
       "    </tr>\n",
       "    <tr>\n",
       "      <th>1</th>\n",
       "      <td>2023-11-03 15:49:40</td>\n",
       "      <td>Umbrella SH</td>\n",
       "      <td>EMEA - SP - MAD - Tetuan</td>\n",
       "      <td>justeat</td>\n",
       "      <td>138656912</td>\n",
       "      <td>Nuevo</td>\n",
       "      <td>22,4</td>\n",
       "      <td>0</td>\n",
       "      <td>0</td>\n",
       "    </tr>\n",
       "    <tr>\n",
       "      <th>2</th>\n",
       "      <td>2023-11-03 15:49:02</td>\n",
       "      <td>Umbrella SH</td>\n",
       "      <td>EMEA - SP - MAD - Tetuan</td>\n",
       "      <td>glovo</td>\n",
       "      <td>MSDGW9UM</td>\n",
       "      <td>Entregado</td>\n",
       "      <td>10,4</td>\n",
       "      <td>0</td>\n",
       "      <td>0</td>\n",
       "    </tr>\n",
       "    <tr>\n",
       "      <th>3</th>\n",
       "      <td>2023-11-03 15:48:41</td>\n",
       "      <td>Umbrella SH</td>\n",
       "      <td>Umbrella SH - Calle Linares</td>\n",
       "      <td>ubereats</td>\n",
       "      <td>8D40B</td>\n",
       "      <td>Nuevo</td>\n",
       "      <td>36,6</td>\n",
       "      <td>0</td>\n",
       "      <td>-13,9</td>\n",
       "    </tr>\n",
       "    <tr>\n",
       "      <th>4</th>\n",
       "      <td>2023-11-03 15:44:25</td>\n",
       "      <td>Umbrella SH</td>\n",
       "      <td>Goleta</td>\n",
       "      <td>ubereats</td>\n",
       "      <td>DF131</td>\n",
       "      <td>Entregado</td>\n",
       "      <td>31,8</td>\n",
       "      <td>0</td>\n",
       "      <td>-13,9</td>\n",
       "    </tr>\n",
       "  </tbody>\n",
       "</table>\n",
       "</div>"
      ],
      "text/plain": [
       "                 fecha        marca                        local     canal  \\\n",
       "0  2023-11-03 15:55:55  Umbrella SH     EMEA - SP - MAD - Tetuan   justeat   \n",
       "1  2023-11-03 15:49:40  Umbrella SH     EMEA - SP - MAD - Tetuan   justeat   \n",
       "2  2023-11-03 15:49:02  Umbrella SH     EMEA - SP - MAD - Tetuan     glovo   \n",
       "3  2023-11-03 15:48:41  Umbrella SH  Umbrella SH - Calle Linares  ubereats   \n",
       "4  2023-11-03 15:44:25  Umbrella SH                       Goleta  ubereats   \n",
       "\n",
       "    id_orden estado_orden subtotal impuesto descuento  \n",
       "0  138656463        Nuevo       10        0         0  \n",
       "1  138656912        Nuevo     22,4        0         0  \n",
       "2   MSDGW9UM    Entregado     10,4        0         0  \n",
       "3      8D40B        Nuevo     36,6        0     -13,9  \n",
       "4      DF131    Entregado     31,8        0     -13,9  "
      ]
     },
     "execution_count": 2,
     "metadata": {},
     "output_type": "execute_result"
    }
   ],
   "source": [
    "otter = pd.read_csv('../../data/1-clean/otter_clean.csv')\n",
    "otter_original_shape= otter.shape\n",
    "otter.head()"
   ]
  },
  {
   "cell_type": "code",
   "execution_count": 3,
   "metadata": {},
   "outputs": [
    {
     "data": {
      "text/html": [
       "<div>\n",
       "<style scoped>\n",
       "    .dataframe tbody tr th:only-of-type {\n",
       "        vertical-align: middle;\n",
       "    }\n",
       "\n",
       "    .dataframe tbody tr th {\n",
       "        vertical-align: top;\n",
       "    }\n",
       "\n",
       "    .dataframe thead th {\n",
       "        text-align: right;\n",
       "    }\n",
       "</style>\n",
       "<table border=\"1\" class=\"dataframe\">\n",
       "  <thead>\n",
       "    <tr style=\"text-align: right;\">\n",
       "      <th></th>\n",
       "      <th>fecha</th>\n",
       "      <th>marca</th>\n",
       "      <th>local</th>\n",
       "      <th>canal</th>\n",
       "      <th>id_orden</th>\n",
       "      <th>estado_orden</th>\n",
       "      <th>subtotal</th>\n",
       "      <th>impuesto</th>\n",
       "      <th>descuento</th>\n",
       "    </tr>\n",
       "  </thead>\n",
       "  <tbody>\n",
       "    <tr>\n",
       "      <th>count</th>\n",
       "      <td>534</td>\n",
       "      <td>528</td>\n",
       "      <td>534</td>\n",
       "      <td>534</td>\n",
       "      <td>534</td>\n",
       "      <td>534</td>\n",
       "      <td>534</td>\n",
       "      <td>534</td>\n",
       "      <td>534</td>\n",
       "    </tr>\n",
       "    <tr>\n",
       "      <th>unique</th>\n",
       "      <td>530</td>\n",
       "      <td>3</td>\n",
       "      <td>8</td>\n",
       "      <td>4</td>\n",
       "      <td>534</td>\n",
       "      <td>3</td>\n",
       "      <td>253</td>\n",
       "      <td>18</td>\n",
       "      <td>13</td>\n",
       "    </tr>\n",
       "    <tr>\n",
       "      <th>top</th>\n",
       "      <td>2023-11-01 20:23:57</td>\n",
       "      <td>Umbrella SH</td>\n",
       "      <td>EMEA - SP - MAD - Tetuan</td>\n",
       "      <td>ubereats</td>\n",
       "      <td>138656463</td>\n",
       "      <td>Entregado</td>\n",
       "      <td>31,8</td>\n",
       "      <td>0</td>\n",
       "      <td>0</td>\n",
       "    </tr>\n",
       "    <tr>\n",
       "      <th>freq</th>\n",
       "      <td>2</td>\n",
       "      <td>443</td>\n",
       "      <td>132</td>\n",
       "      <td>353</td>\n",
       "      <td>1</td>\n",
       "      <td>464</td>\n",
       "      <td>35</td>\n",
       "      <td>517</td>\n",
       "      <td>315</td>\n",
       "    </tr>\n",
       "  </tbody>\n",
       "</table>\n",
       "</div>"
      ],
      "text/plain": [
       "                      fecha        marca                     local     canal  \\\n",
       "count                   534          528                       534       534   \n",
       "unique                  530            3                         8         4   \n",
       "top     2023-11-01 20:23:57  Umbrella SH  EMEA - SP - MAD - Tetuan  ubereats   \n",
       "freq                      2          443                       132       353   \n",
       "\n",
       "         id_orden estado_orden subtotal impuesto descuento  \n",
       "count         534          534      534      534       534  \n",
       "unique        534            3      253       18        13  \n",
       "top     138656463    Entregado     31,8        0         0  \n",
       "freq            1          464       35      517       315  "
      ]
     },
     "execution_count": 3,
     "metadata": {},
     "output_type": "execute_result"
    }
   ],
   "source": [
    "otter.describe(include='all')"
   ]
  },
  {
   "cell_type": "markdown",
   "metadata": {},
   "source": [
    "#### <a id='toc1_1_2_1_'></a>[Columns marca and local (delete rows)](#toc0_)\n",
    "For the scope of the project, we will select only the brands \"Tepuy Burger\" and \"Tepuy Basics\", and localization in \"Tepuy\" only"
   ]
  },
  {
   "cell_type": "code",
   "execution_count": 4,
   "metadata": {},
   "outputs": [
    {
     "data": {
      "text/plain": [
       "marca\n",
       "Umbrella SH     443\n",
       "Tepuy Burger     60\n",
       "Tepuy Basics     25\n",
       "Name: count, dtype: int64"
      ]
     },
     "execution_count": 4,
     "metadata": {},
     "output_type": "execute_result"
    }
   ],
   "source": [
    "otter.marca.value_counts()"
   ]
  },
  {
   "cell_type": "code",
   "execution_count": 5,
   "metadata": {},
   "outputs": [
    {
     "data": {
      "text/plain": [
       "marca\n",
       "Tepuy Burger    60\n",
       "Tepuy Basics    25\n",
       "Name: count, dtype: int64"
      ]
     },
     "execution_count": 5,
     "metadata": {},
     "output_type": "execute_result"
    }
   ],
   "source": [
    "filtered_df = otter[otter['marca'].isin(['Tepuy Burger', 'Tepuy Basics'])]\n",
    "\n",
    "filtered_df.marca.value_counts()"
   ]
  },
  {
   "cell_type": "code",
   "execution_count": 6,
   "metadata": {},
   "outputs": [],
   "source": [
    "otter = filtered_df.copy()"
   ]
  },
  {
   "cell_type": "code",
   "execution_count": 7,
   "metadata": {},
   "outputs": [
    {
     "data": {
      "text/plain": [
       "local\n",
       "Tepuy Burger - Rodolfo Salazar          29\n",
       "Tepuy Burger - Benidorm                 22\n",
       "Tepuy Burger - Calle Bazan               9\n",
       "Umbrella SH - San Vicent del Raspeig     9\n",
       "Goleta                                   8\n",
       "EMEA - SP - MAD - Salamanca              5\n",
       "Umbrella SH - Calle Linares              3\n",
       "Name: count, dtype: int64"
      ]
     },
     "execution_count": 7,
     "metadata": {},
     "output_type": "execute_result"
    }
   ],
   "source": [
    "otter.local.value_counts()"
   ]
  },
  {
   "cell_type": "code",
   "execution_count": 8,
   "metadata": {},
   "outputs": [
    {
     "data": {
      "text/plain": [
       "local\n",
       "Tepuy Burger - Rodolfo Salazar    29\n",
       "Tepuy Burger - Benidorm           22\n",
       "Tepuy Burger - Calle Bazan         9\n",
       "Name: count, dtype: int64"
      ]
     },
     "execution_count": 8,
     "metadata": {},
     "output_type": "execute_result"
    }
   ],
   "source": [
    "filtered_df = otter[otter['local'].isin(['Tepuy Burger - Rodolfo Salazar', 'Tepuy Burger - Benidorm', 'Tepuy Burger - Calle Bazan'])]\n",
    "\n",
    "filtered_df.local.value_counts()"
   ]
  },
  {
   "cell_type": "code",
   "execution_count": 9,
   "metadata": {},
   "outputs": [],
   "source": [
    "otter = filtered_df.copy()"
   ]
  },
  {
   "cell_type": "markdown",
   "metadata": {},
   "source": [
    "#### <a id='toc1_1_2_2_'></a>[Columns Float Subtotal](#toc0_)"
   ]
  },
  {
   "cell_type": "code",
   "execution_count": 10,
   "metadata": {},
   "outputs": [],
   "source": [
    "#The data is going a SQL database, so we need the numbers with . instead of ,\n",
    "otter.subtotal = otter.subtotal.apply(replace_to, change_for=',', change_to='.')\n",
    "otter.impuesto = otter.impuesto.apply(replace_to, change_for=',', change_to='.')\n",
    "otter.descuento = otter.descuento.apply(replace_to, change_for=',', change_to='.')"
   ]
  },
  {
   "cell_type": "code",
   "execution_count": 11,
   "metadata": {},
   "outputs": [
    {
     "data": {
      "text/html": [
       "<div>\n",
       "<style scoped>\n",
       "    .dataframe tbody tr th:only-of-type {\n",
       "        vertical-align: middle;\n",
       "    }\n",
       "\n",
       "    .dataframe tbody tr th {\n",
       "        vertical-align: top;\n",
       "    }\n",
       "\n",
       "    .dataframe thead th {\n",
       "        text-align: right;\n",
       "    }\n",
       "</style>\n",
       "<table border=\"1\" class=\"dataframe\">\n",
       "  <thead>\n",
       "    <tr style=\"text-align: right;\">\n",
       "      <th></th>\n",
       "      <th>fecha</th>\n",
       "      <th>marca</th>\n",
       "      <th>local</th>\n",
       "      <th>canal</th>\n",
       "      <th>id_orden</th>\n",
       "      <th>estado_orden</th>\n",
       "      <th>subtotal</th>\n",
       "      <th>impuesto</th>\n",
       "      <th>descuento</th>\n",
       "    </tr>\n",
       "  </thead>\n",
       "  <tbody>\n",
       "    <tr>\n",
       "      <th>count</th>\n",
       "      <td>60</td>\n",
       "      <td>60</td>\n",
       "      <td>60</td>\n",
       "      <td>60</td>\n",
       "      <td>60</td>\n",
       "      <td>60</td>\n",
       "      <td>60</td>\n",
       "      <td>60</td>\n",
       "      <td>60</td>\n",
       "    </tr>\n",
       "    <tr>\n",
       "      <th>unique</th>\n",
       "      <td>58</td>\n",
       "      <td>1</td>\n",
       "      <td>3</td>\n",
       "      <td>3</td>\n",
       "      <td>60</td>\n",
       "      <td>3</td>\n",
       "      <td>50</td>\n",
       "      <td>2</td>\n",
       "      <td>3</td>\n",
       "    </tr>\n",
       "    <tr>\n",
       "      <th>top</th>\n",
       "      <td>2023-11-01 20:14:55</td>\n",
       "      <td>Tepuy Burger</td>\n",
       "      <td>Tepuy Burger - Rodolfo Salazar</td>\n",
       "      <td>glovo</td>\n",
       "      <td>AULRBGNM</td>\n",
       "      <td>Entregado</td>\n",
       "      <td>26.9</td>\n",
       "      <td>0</td>\n",
       "      <td>0</td>\n",
       "    </tr>\n",
       "    <tr>\n",
       "      <th>freq</th>\n",
       "      <td>2</td>\n",
       "      <td>60</td>\n",
       "      <td>29</td>\n",
       "      <td>41</td>\n",
       "      <td>1</td>\n",
       "      <td>54</td>\n",
       "      <td>3</td>\n",
       "      <td>59</td>\n",
       "      <td>58</td>\n",
       "    </tr>\n",
       "  </tbody>\n",
       "</table>\n",
       "</div>"
      ],
      "text/plain": [
       "                      fecha         marca                           local  \\\n",
       "count                    60            60                              60   \n",
       "unique                   58             1                               3   \n",
       "top     2023-11-01 20:14:55  Tepuy Burger  Tepuy Burger - Rodolfo Salazar   \n",
       "freq                      2            60                              29   \n",
       "\n",
       "        canal  id_orden estado_orden subtotal impuesto descuento  \n",
       "count      60        60           60       60       60        60  \n",
       "unique      3        60            3       50        2         3  \n",
       "top     glovo  AULRBGNM    Entregado     26.9        0         0  \n",
       "freq       41         1           54        3       59        58  "
      ]
     },
     "execution_count": 11,
     "metadata": {},
     "output_type": "execute_result"
    }
   ],
   "source": [
    "otter.describe()"
   ]
  },
  {
   "cell_type": "markdown",
   "metadata": {},
   "source": [
    "#### <a id='toc1_1_2_3_'></a>[Rename columns to english names](#toc0_)"
   ]
  },
  {
   "cell_type": "code",
   "execution_count": 12,
   "metadata": {},
   "outputs": [],
   "source": [
    "columns_to_rename={'fecha':'created_datetime',\n",
    "                   'marca':'brand',\n",
    "                   'local':'location',\n",
    "                   'canal':'channel',\n",
    "                   'id_orden':'order_id_software',\n",
    "                   'impuesto':'vat',\n",
    "                   'descuento':'discount',\n",
    "                   'estado_orden':'status'}\n",
    "\n",
    "otter = rename_columns(otter, columns_to_rename)\n"
   ]
  },
  {
   "cell_type": "code",
   "execution_count": 13,
   "metadata": {},
   "outputs": [
    {
     "data": {
      "text/html": [
       "<div>\n",
       "<style scoped>\n",
       "    .dataframe tbody tr th:only-of-type {\n",
       "        vertical-align: middle;\n",
       "    }\n",
       "\n",
       "    .dataframe tbody tr th {\n",
       "        vertical-align: top;\n",
       "    }\n",
       "\n",
       "    .dataframe thead th {\n",
       "        text-align: right;\n",
       "    }\n",
       "</style>\n",
       "<table border=\"1\" class=\"dataframe\">\n",
       "  <thead>\n",
       "    <tr style=\"text-align: right;\">\n",
       "      <th></th>\n",
       "      <th>created_datetime</th>\n",
       "      <th>brand</th>\n",
       "      <th>location</th>\n",
       "      <th>channel</th>\n",
       "      <th>order_id_software</th>\n",
       "      <th>status</th>\n",
       "      <th>subtotal</th>\n",
       "      <th>vat</th>\n",
       "      <th>discount</th>\n",
       "    </tr>\n",
       "  </thead>\n",
       "  <tbody>\n",
       "    <tr>\n",
       "      <th>16</th>\n",
       "      <td>2023-11-03 14:46:46</td>\n",
       "      <td>Tepuy Burger</td>\n",
       "      <td>Tepuy Burger - Rodolfo Salazar</td>\n",
       "      <td>glovo</td>\n",
       "      <td>AULRBGNM</td>\n",
       "      <td>Entregado</td>\n",
       "      <td>26.9</td>\n",
       "      <td>0</td>\n",
       "      <td>0</td>\n",
       "    </tr>\n",
       "    <tr>\n",
       "      <th>18</th>\n",
       "      <td>2023-11-03 14:40:15</td>\n",
       "      <td>Tepuy Burger</td>\n",
       "      <td>Tepuy Burger - Benidorm</td>\n",
       "      <td>glovo</td>\n",
       "      <td>B1YBHZJW</td>\n",
       "      <td>Entregado</td>\n",
       "      <td>51.5</td>\n",
       "      <td>0</td>\n",
       "      <td>0</td>\n",
       "    </tr>\n",
       "    <tr>\n",
       "      <th>22</th>\n",
       "      <td>2023-11-03 14:23:06</td>\n",
       "      <td>Tepuy Burger</td>\n",
       "      <td>Tepuy Burger - Rodolfo Salazar</td>\n",
       "      <td>glovo</td>\n",
       "      <td>ALMVLKTB</td>\n",
       "      <td>Entregado</td>\n",
       "      <td>26.9</td>\n",
       "      <td>0</td>\n",
       "      <td>0</td>\n",
       "    </tr>\n",
       "    <tr>\n",
       "      <th>50</th>\n",
       "      <td>2023-11-02 22:32:27</td>\n",
       "      <td>Tepuy Burger</td>\n",
       "      <td>Tepuy Burger - Benidorm</td>\n",
       "      <td>glovo</td>\n",
       "      <td>BXVJAQHE</td>\n",
       "      <td>Entregado</td>\n",
       "      <td>40.9</td>\n",
       "      <td>0</td>\n",
       "      <td>0</td>\n",
       "    </tr>\n",
       "    <tr>\n",
       "      <th>53</th>\n",
       "      <td>2023-11-02 22:28:20</td>\n",
       "      <td>Tepuy Burger</td>\n",
       "      <td>Tepuy Burger - Calle Bazan</td>\n",
       "      <td>glovo</td>\n",
       "      <td>ABUGGFKZ</td>\n",
       "      <td>Cancelado</td>\n",
       "      <td>20.4</td>\n",
       "      <td>0</td>\n",
       "      <td>0</td>\n",
       "    </tr>\n",
       "  </tbody>\n",
       "</table>\n",
       "</div>"
      ],
      "text/plain": [
       "       created_datetime         brand                        location channel  \\\n",
       "16  2023-11-03 14:46:46  Tepuy Burger  Tepuy Burger - Rodolfo Salazar   glovo   \n",
       "18  2023-11-03 14:40:15  Tepuy Burger         Tepuy Burger - Benidorm   glovo   \n",
       "22  2023-11-03 14:23:06  Tepuy Burger  Tepuy Burger - Rodolfo Salazar   glovo   \n",
       "50  2023-11-02 22:32:27  Tepuy Burger         Tepuy Burger - Benidorm   glovo   \n",
       "53  2023-11-02 22:28:20  Tepuy Burger      Tepuy Burger - Calle Bazan   glovo   \n",
       "\n",
       "   order_id_software     status subtotal vat discount  \n",
       "16          AULRBGNM  Entregado     26.9   0        0  \n",
       "18          B1YBHZJW  Entregado     51.5   0        0  \n",
       "22          ALMVLKTB  Entregado     26.9   0        0  \n",
       "50          BXVJAQHE  Entregado     40.9   0        0  \n",
       "53          ABUGGFKZ  Cancelado     20.4   0        0  "
      ]
     },
     "execution_count": 13,
     "metadata": {},
     "output_type": "execute_result"
    }
   ],
   "source": [
    "otter.head()"
   ]
  },
  {
   "cell_type": "code",
   "execution_count": 14,
   "metadata": {},
   "outputs": [
    {
     "name": "stdout",
     "output_type": "stream",
     "text": [
      "<class 'pandas.core.frame.DataFrame'>\n",
      "Index: 60 entries, 16 to 509\n",
      "Data columns (total 9 columns):\n",
      " #   Column             Non-Null Count  Dtype \n",
      "---  ------             --------------  ----- \n",
      " 0   created_datetime   60 non-null     object\n",
      " 1   brand              60 non-null     object\n",
      " 2   location           60 non-null     object\n",
      " 3   channel            60 non-null     object\n",
      " 4   order_id_software  60 non-null     object\n",
      " 5   status             60 non-null     object\n",
      " 6   subtotal           60 non-null     object\n",
      " 7   vat                60 non-null     object\n",
      " 8   discount           60 non-null     object\n",
      "dtypes: object(9)\n",
      "memory usage: 4.7+ KB\n"
     ]
    }
   ],
   "source": [
    "otter.info()"
   ]
  },
  {
   "cell_type": "markdown",
   "metadata": {},
   "source": [
    "#### <a id='toc1_1_2_4_'></a>[Columns subtotal, vat and discount are object type and they should be float](#toc0_)"
   ]
  },
  {
   "cell_type": "code",
   "execution_count": 15,
   "metadata": {},
   "outputs": [],
   "source": [
    "#PyPower method\n",
    "otter= change_type(otter, 'subtotal', 'object','float')\n",
    "otter= change_type(otter, 'vat', 'object','float')\n",
    "otter= change_type(otter, 'discount', 'object','float') "
   ]
  },
  {
   "cell_type": "code",
   "execution_count": 16,
   "metadata": {},
   "outputs": [
    {
     "data": {
      "text/plain": [
       "channel\n",
       "glovo           41\n",
       "ubereats        17\n",
       "gloria_foods     2\n",
       "Name: count, dtype: int64"
      ]
     },
     "execution_count": 16,
     "metadata": {},
     "output_type": "execute_result"
    }
   ],
   "source": [
    "otter.channel = otter.channel.apply(replace_to, change_for='-', change_to='_')\n",
    "\n",
    "otter.channel.value_counts()"
   ]
  },
  {
   "cell_type": "code",
   "execution_count": 17,
   "metadata": {},
   "outputs": [],
   "source": [
    "#Asign new column to explain from which system is this order comming from\n",
    "\n",
    "otter['software'] = 'otter'"
   ]
  },
  {
   "cell_type": "markdown",
   "metadata": {},
   "source": [
    "### <a id='toc1_1_3_'></a>[Deliverect DataFrame](#toc0_)"
   ]
  },
  {
   "cell_type": "code",
   "execution_count": 18,
   "metadata": {},
   "outputs": [
    {
     "data": {
      "text/html": [
       "<div>\n",
       "<style scoped>\n",
       "    .dataframe tbody tr th:only-of-type {\n",
       "        vertical-align: middle;\n",
       "    }\n",
       "\n",
       "    .dataframe tbody tr th {\n",
       "        vertical-align: top;\n",
       "    }\n",
       "\n",
       "    .dataframe thead th {\n",
       "        text-align: right;\n",
       "    }\n",
       "</style>\n",
       "<table border=\"1\" class=\"dataframe\">\n",
       "  <thead>\n",
       "    <tr style=\"text-align: right;\">\n",
       "      <th></th>\n",
       "      <th>createdtimeutc</th>\n",
       "      <th>location</th>\n",
       "      <th>orderid</th>\n",
       "      <th>channel</th>\n",
       "      <th>status</th>\n",
       "      <th>type</th>\n",
       "      <th>payment</th>\n",
       "      <th>paymentamount</th>\n",
       "      <th>deliverycost</th>\n",
       "      <th>discounttotal</th>\n",
       "      <th>tip</th>\n",
       "      <th>drivertip</th>\n",
       "      <th>subtotal</th>\n",
       "      <th>vat</th>\n",
       "    </tr>\n",
       "  </thead>\n",
       "  <tbody>\n",
       "    <tr>\n",
       "      <th>0</th>\n",
       "      <td>2023-10-31 21:31:15</td>\n",
       "      <td>Alicante - Bazan</td>\n",
       "      <td>138509659</td>\n",
       "      <td>Just Eat</td>\n",
       "      <td>ACCEPTED</td>\n",
       "      <td>DELIVERY</td>\n",
       "      <td>CARD</td>\n",
       "      <td>85.39</td>\n",
       "      <td>1.99</td>\n",
       "      <td>0.0</td>\n",
       "      <td>0.0</td>\n",
       "      <td>0.0</td>\n",
       "      <td>83.4</td>\n",
       "      <td>7.57</td>\n",
       "    </tr>\n",
       "    <tr>\n",
       "      <th>1</th>\n",
       "      <td>2023-10-31 21:02:26</td>\n",
       "      <td>Alicante - Periodista Rodolfo Salazar</td>\n",
       "      <td>138502564</td>\n",
       "      <td>Just Eat</td>\n",
       "      <td>DELIVERED</td>\n",
       "      <td>DELIVERY</td>\n",
       "      <td>CARD</td>\n",
       "      <td>41.89</td>\n",
       "      <td>1.99</td>\n",
       "      <td>0.0</td>\n",
       "      <td>0.0</td>\n",
       "      <td>0.0</td>\n",
       "      <td>39.9</td>\n",
       "      <td>3.62</td>\n",
       "    </tr>\n",
       "    <tr>\n",
       "      <th>2</th>\n",
       "      <td>2023-10-29 20:20:15</td>\n",
       "      <td>Alicante - Periodista Rodolfo Salazar</td>\n",
       "      <td>138409768</td>\n",
       "      <td>Just Eat</td>\n",
       "      <td>DELIVERED</td>\n",
       "      <td>DELIVERY</td>\n",
       "      <td>CARD</td>\n",
       "      <td>31.09</td>\n",
       "      <td>1.99</td>\n",
       "      <td>0.0</td>\n",
       "      <td>0.0</td>\n",
       "      <td>0.0</td>\n",
       "      <td>29.1</td>\n",
       "      <td>2.65</td>\n",
       "    </tr>\n",
       "    <tr>\n",
       "      <th>3</th>\n",
       "      <td>2023-10-29 19:53:10</td>\n",
       "      <td>Alicante - Periodista Rodolfo Salazar</td>\n",
       "      <td>138402233</td>\n",
       "      <td>Just Eat</td>\n",
       "      <td>DELIVERED</td>\n",
       "      <td>DELIVERY</td>\n",
       "      <td>CARD</td>\n",
       "      <td>19.69</td>\n",
       "      <td>1.99</td>\n",
       "      <td>0.0</td>\n",
       "      <td>0.0</td>\n",
       "      <td>0.0</td>\n",
       "      <td>17.7</td>\n",
       "      <td>1.61</td>\n",
       "    </tr>\n",
       "    <tr>\n",
       "      <th>4</th>\n",
       "      <td>2023-10-29 19:28:17</td>\n",
       "      <td>Alicante - Periodista Rodolfo Salazar</td>\n",
       "      <td>138390234</td>\n",
       "      <td>Just Eat</td>\n",
       "      <td>DELIVERED</td>\n",
       "      <td>DELIVERY</td>\n",
       "      <td>CARD</td>\n",
       "      <td>15.99</td>\n",
       "      <td>2.99</td>\n",
       "      <td>0.0</td>\n",
       "      <td>0.0</td>\n",
       "      <td>0.0</td>\n",
       "      <td>13.0</td>\n",
       "      <td>1.19</td>\n",
       "    </tr>\n",
       "  </tbody>\n",
       "</table>\n",
       "</div>"
      ],
      "text/plain": [
       "        createdtimeutc                               location    orderid  \\\n",
       "0  2023-10-31 21:31:15                       Alicante - Bazan  138509659   \n",
       "1  2023-10-31 21:02:26  Alicante - Periodista Rodolfo Salazar  138502564   \n",
       "2  2023-10-29 20:20:15  Alicante - Periodista Rodolfo Salazar  138409768   \n",
       "3  2023-10-29 19:53:10  Alicante - Periodista Rodolfo Salazar  138402233   \n",
       "4  2023-10-29 19:28:17  Alicante - Periodista Rodolfo Salazar  138390234   \n",
       "\n",
       "    channel     status      type payment  paymentamount  deliverycost  \\\n",
       "0  Just Eat   ACCEPTED  DELIVERY    CARD          85.39          1.99   \n",
       "1  Just Eat  DELIVERED  DELIVERY    CARD          41.89          1.99   \n",
       "2  Just Eat  DELIVERED  DELIVERY    CARD          31.09          1.99   \n",
       "3  Just Eat  DELIVERED  DELIVERY    CARD          19.69          1.99   \n",
       "4  Just Eat  DELIVERED  DELIVERY    CARD          15.99          2.99   \n",
       "\n",
       "   discounttotal  tip  drivertip  subtotal   vat  \n",
       "0            0.0  0.0        0.0      83.4  7.57  \n",
       "1            0.0  0.0        0.0      39.9  3.62  \n",
       "2            0.0  0.0        0.0      29.1  2.65  \n",
       "3            0.0  0.0        0.0      17.7  1.61  \n",
       "4            0.0  0.0        0.0      13.0  1.19  "
      ]
     },
     "execution_count": 18,
     "metadata": {},
     "output_type": "execute_result"
    }
   ],
   "source": [
    "deliverect = pd.read_csv('../../data/1-clean/deliverect_clean.csv')\n",
    "deliverect_original_shape= otter.shape\n",
    "deliverect.head()"
   ]
  },
  {
   "cell_type": "code",
   "execution_count": 19,
   "metadata": {},
   "outputs": [
    {
     "name": "stdout",
     "output_type": "stream",
     "text": [
      "<class 'pandas.core.frame.DataFrame'>\n",
      "RangeIndex: 62 entries, 0 to 61\n",
      "Data columns (total 14 columns):\n",
      " #   Column          Non-Null Count  Dtype  \n",
      "---  ------          --------------  -----  \n",
      " 0   createdtimeutc  62 non-null     object \n",
      " 1   location        62 non-null     object \n",
      " 2   orderid         62 non-null     int64  \n",
      " 3   channel         62 non-null     object \n",
      " 4   status          62 non-null     object \n",
      " 5   type            62 non-null     object \n",
      " 6   payment         62 non-null     object \n",
      " 7   paymentamount   62 non-null     float64\n",
      " 8   deliverycost    62 non-null     float64\n",
      " 9   discounttotal   62 non-null     float64\n",
      " 10  tip             62 non-null     float64\n",
      " 11  drivertip       62 non-null     float64\n",
      " 12  subtotal        62 non-null     float64\n",
      " 13  vat             62 non-null     float64\n",
      "dtypes: float64(7), int64(1), object(6)\n",
      "memory usage: 6.9+ KB\n"
     ]
    }
   ],
   "source": [
    "deliverect.info()"
   ]
  },
  {
   "cell_type": "markdown",
   "metadata": {},
   "source": [
    "##### <a id='toc1_1_3_1_1_'></a>[For the project, the customer only wants to unify the data from the delivery platforms](#toc0_)\n",
    "Delete where type is not DELIVERY"
   ]
  },
  {
   "cell_type": "code",
   "execution_count": 20,
   "metadata": {},
   "outputs": [],
   "source": [
    "filtered_df = deliverect[deliverect['type']=='DELIVERY']\n",
    "\n",
    "deliverect = filtered_df.copy()"
   ]
  },
  {
   "cell_type": "markdown",
   "metadata": {},
   "source": [
    "##### <a id='toc1_1_3_1_2_'></a>[Unify columns names](#toc0_)"
   ]
  },
  {
   "cell_type": "code",
   "execution_count": 21,
   "metadata": {},
   "outputs": [],
   "source": [
    "columns_to_rename={'createdtimeutc':'created_datetime',\n",
    "                   'payment':'payment_method',\n",
    "                   'paymentamount':'total',\n",
    "                   'deliverycost':'delivery_cost',\n",
    "                   'orderid':'order_id_software',\n",
    "                   'discounttotal':'discount',\n",
    "                   'drivertip':'driver_tip'}\n",
    "\n",
    "deliverect = rename_columns(deliverect, columns_to_rename)\n"
   ]
  },
  {
   "cell_type": "code",
   "execution_count": 22,
   "metadata": {},
   "outputs": [
    {
     "data": {
      "text/html": [
       "<div>\n",
       "<style scoped>\n",
       "    .dataframe tbody tr th:only-of-type {\n",
       "        vertical-align: middle;\n",
       "    }\n",
       "\n",
       "    .dataframe tbody tr th {\n",
       "        vertical-align: top;\n",
       "    }\n",
       "\n",
       "    .dataframe thead th {\n",
       "        text-align: right;\n",
       "    }\n",
       "</style>\n",
       "<table border=\"1\" class=\"dataframe\">\n",
       "  <thead>\n",
       "    <tr style=\"text-align: right;\">\n",
       "      <th></th>\n",
       "      <th>created_datetime</th>\n",
       "      <th>location</th>\n",
       "      <th>order_id_software</th>\n",
       "      <th>channel</th>\n",
       "      <th>status</th>\n",
       "      <th>type</th>\n",
       "      <th>payment_method</th>\n",
       "      <th>total</th>\n",
       "      <th>delivery_cost</th>\n",
       "      <th>discount</th>\n",
       "      <th>tip</th>\n",
       "      <th>driver_tip</th>\n",
       "      <th>subtotal</th>\n",
       "      <th>vat</th>\n",
       "    </tr>\n",
       "  </thead>\n",
       "  <tbody>\n",
       "    <tr>\n",
       "      <th>0</th>\n",
       "      <td>2023-10-31 21:31:15</td>\n",
       "      <td>Alicante - Bazan</td>\n",
       "      <td>138509659</td>\n",
       "      <td>Just Eat</td>\n",
       "      <td>ACCEPTED</td>\n",
       "      <td>DELIVERY</td>\n",
       "      <td>CARD</td>\n",
       "      <td>85.39</td>\n",
       "      <td>1.99</td>\n",
       "      <td>0.0</td>\n",
       "      <td>0.0</td>\n",
       "      <td>0.0</td>\n",
       "      <td>83.4</td>\n",
       "      <td>7.57</td>\n",
       "    </tr>\n",
       "    <tr>\n",
       "      <th>1</th>\n",
       "      <td>2023-10-31 21:02:26</td>\n",
       "      <td>Alicante - Periodista Rodolfo Salazar</td>\n",
       "      <td>138502564</td>\n",
       "      <td>Just Eat</td>\n",
       "      <td>DELIVERED</td>\n",
       "      <td>DELIVERY</td>\n",
       "      <td>CARD</td>\n",
       "      <td>41.89</td>\n",
       "      <td>1.99</td>\n",
       "      <td>0.0</td>\n",
       "      <td>0.0</td>\n",
       "      <td>0.0</td>\n",
       "      <td>39.9</td>\n",
       "      <td>3.62</td>\n",
       "    </tr>\n",
       "    <tr>\n",
       "      <th>2</th>\n",
       "      <td>2023-10-29 20:20:15</td>\n",
       "      <td>Alicante - Periodista Rodolfo Salazar</td>\n",
       "      <td>138409768</td>\n",
       "      <td>Just Eat</td>\n",
       "      <td>DELIVERED</td>\n",
       "      <td>DELIVERY</td>\n",
       "      <td>CARD</td>\n",
       "      <td>31.09</td>\n",
       "      <td>1.99</td>\n",
       "      <td>0.0</td>\n",
       "      <td>0.0</td>\n",
       "      <td>0.0</td>\n",
       "      <td>29.1</td>\n",
       "      <td>2.65</td>\n",
       "    </tr>\n",
       "    <tr>\n",
       "      <th>3</th>\n",
       "      <td>2023-10-29 19:53:10</td>\n",
       "      <td>Alicante - Periodista Rodolfo Salazar</td>\n",
       "      <td>138402233</td>\n",
       "      <td>Just Eat</td>\n",
       "      <td>DELIVERED</td>\n",
       "      <td>DELIVERY</td>\n",
       "      <td>CARD</td>\n",
       "      <td>19.69</td>\n",
       "      <td>1.99</td>\n",
       "      <td>0.0</td>\n",
       "      <td>0.0</td>\n",
       "      <td>0.0</td>\n",
       "      <td>17.7</td>\n",
       "      <td>1.61</td>\n",
       "    </tr>\n",
       "    <tr>\n",
       "      <th>4</th>\n",
       "      <td>2023-10-29 19:28:17</td>\n",
       "      <td>Alicante - Periodista Rodolfo Salazar</td>\n",
       "      <td>138390234</td>\n",
       "      <td>Just Eat</td>\n",
       "      <td>DELIVERED</td>\n",
       "      <td>DELIVERY</td>\n",
       "      <td>CARD</td>\n",
       "      <td>15.99</td>\n",
       "      <td>2.99</td>\n",
       "      <td>0.0</td>\n",
       "      <td>0.0</td>\n",
       "      <td>0.0</td>\n",
       "      <td>13.0</td>\n",
       "      <td>1.19</td>\n",
       "    </tr>\n",
       "  </tbody>\n",
       "</table>\n",
       "</div>"
      ],
      "text/plain": [
       "      created_datetime                               location  \\\n",
       "0  2023-10-31 21:31:15                       Alicante - Bazan   \n",
       "1  2023-10-31 21:02:26  Alicante - Periodista Rodolfo Salazar   \n",
       "2  2023-10-29 20:20:15  Alicante - Periodista Rodolfo Salazar   \n",
       "3  2023-10-29 19:53:10  Alicante - Periodista Rodolfo Salazar   \n",
       "4  2023-10-29 19:28:17  Alicante - Periodista Rodolfo Salazar   \n",
       "\n",
       "   order_id_software   channel     status      type payment_method  total  \\\n",
       "0          138509659  Just Eat   ACCEPTED  DELIVERY           CARD  85.39   \n",
       "1          138502564  Just Eat  DELIVERED  DELIVERY           CARD  41.89   \n",
       "2          138409768  Just Eat  DELIVERED  DELIVERY           CARD  31.09   \n",
       "3          138402233  Just Eat  DELIVERED  DELIVERY           CARD  19.69   \n",
       "4          138390234  Just Eat  DELIVERED  DELIVERY           CARD  15.99   \n",
       "\n",
       "   delivery_cost  discount  tip  driver_tip  subtotal   vat  \n",
       "0           1.99       0.0  0.0         0.0      83.4  7.57  \n",
       "1           1.99       0.0  0.0         0.0      39.9  3.62  \n",
       "2           1.99       0.0  0.0         0.0      29.1  2.65  \n",
       "3           1.99       0.0  0.0         0.0      17.7  1.61  \n",
       "4           2.99       0.0  0.0         0.0      13.0  1.19  "
      ]
     },
     "execution_count": 22,
     "metadata": {},
     "output_type": "execute_result"
    }
   ],
   "source": [
    "deliverect.head()"
   ]
  },
  {
   "cell_type": "code",
   "execution_count": 23,
   "metadata": {},
   "outputs": [
    {
     "name": "stdout",
     "output_type": "stream",
     "text": [
      "<class 'pandas.core.frame.DataFrame'>\n",
      "Index: 61 entries, 0 to 61\n",
      "Data columns (total 14 columns):\n",
      " #   Column             Non-Null Count  Dtype  \n",
      "---  ------             --------------  -----  \n",
      " 0   created_datetime   61 non-null     object \n",
      " 1   location           61 non-null     object \n",
      " 2   order_id_software  61 non-null     int64  \n",
      " 3   channel            61 non-null     object \n",
      " 4   status             61 non-null     object \n",
      " 5   type               61 non-null     object \n",
      " 6   payment_method     61 non-null     object \n",
      " 7   total              61 non-null     float64\n",
      " 8   delivery_cost      61 non-null     float64\n",
      " 9   discount           61 non-null     float64\n",
      " 10  tip                61 non-null     float64\n",
      " 11  driver_tip         61 non-null     float64\n",
      " 12  subtotal           61 non-null     float64\n",
      " 13  vat                61 non-null     float64\n",
      "dtypes: float64(7), int64(1), object(6)\n",
      "memory usage: 7.1+ KB\n"
     ]
    }
   ],
   "source": [
    "deliverect.info()"
   ]
  },
  {
   "cell_type": "code",
   "execution_count": 24,
   "metadata": {},
   "outputs": [
    {
     "data": {
      "text/plain": [
       "dtype('O')"
      ]
     },
     "execution_count": 24,
     "metadata": {},
     "output_type": "execute_result"
    }
   ],
   "source": [
    "deliverect = change_type(deliverect, 'order_id_software', 'int64','object')\n",
    "\n",
    "deliverect.order_id_software.dtype"
   ]
  },
  {
   "cell_type": "code",
   "execution_count": 25,
   "metadata": {},
   "outputs": [
    {
     "data": {
      "text/plain": [
       "location\n",
       "Alicante - Bazan                         32\n",
       "Alicante - Periodista Rodolfo Salazar    29\n",
       "Name: count, dtype: int64"
      ]
     },
     "execution_count": 25,
     "metadata": {},
     "output_type": "execute_result"
    }
   ],
   "source": [
    "deliverect.location.value_counts()"
   ]
  },
  {
   "cell_type": "code",
   "execution_count": 26,
   "metadata": {},
   "outputs": [],
   "source": [
    "#Asign new column to explain from which system is this order comming from\n",
    "\n",
    "deliverect['software'] = 'deliverect'"
   ]
  },
  {
   "cell_type": "markdown",
   "metadata": {},
   "source": [
    "### <a id='toc1_1_4_'></a>[DataFrames final unification](#toc0_)\n",
    "The goal is to unify all columns and types and then join both of the DataFrames"
   ]
  },
  {
   "cell_type": "code",
   "execution_count": 27,
   "metadata": {},
   "outputs": [
    {
     "data": {
      "text/html": [
       "<div>\n",
       "<style scoped>\n",
       "    .dataframe tbody tr th:only-of-type {\n",
       "        vertical-align: middle;\n",
       "    }\n",
       "\n",
       "    .dataframe tbody tr th {\n",
       "        vertical-align: top;\n",
       "    }\n",
       "\n",
       "    .dataframe thead th {\n",
       "        text-align: right;\n",
       "    }\n",
       "</style>\n",
       "<table border=\"1\" class=\"dataframe\">\n",
       "  <thead>\n",
       "    <tr style=\"text-align: right;\">\n",
       "      <th></th>\n",
       "      <th>created_datetime</th>\n",
       "      <th>brand</th>\n",
       "      <th>location</th>\n",
       "      <th>channel</th>\n",
       "      <th>order_id_software</th>\n",
       "      <th>status</th>\n",
       "      <th>subtotal</th>\n",
       "      <th>vat</th>\n",
       "      <th>discount</th>\n",
       "      <th>software</th>\n",
       "    </tr>\n",
       "  </thead>\n",
       "  <tbody>\n",
       "    <tr>\n",
       "      <th>16</th>\n",
       "      <td>2023-11-03 14:46:46</td>\n",
       "      <td>Tepuy Burger</td>\n",
       "      <td>Tepuy Burger - Rodolfo Salazar</td>\n",
       "      <td>glovo</td>\n",
       "      <td>AULRBGNM</td>\n",
       "      <td>Entregado</td>\n",
       "      <td>26.9</td>\n",
       "      <td>0.0</td>\n",
       "      <td>0.0</td>\n",
       "      <td>otter</td>\n",
       "    </tr>\n",
       "    <tr>\n",
       "      <th>18</th>\n",
       "      <td>2023-11-03 14:40:15</td>\n",
       "      <td>Tepuy Burger</td>\n",
       "      <td>Tepuy Burger - Benidorm</td>\n",
       "      <td>glovo</td>\n",
       "      <td>B1YBHZJW</td>\n",
       "      <td>Entregado</td>\n",
       "      <td>51.5</td>\n",
       "      <td>0.0</td>\n",
       "      <td>0.0</td>\n",
       "      <td>otter</td>\n",
       "    </tr>\n",
       "  </tbody>\n",
       "</table>\n",
       "</div>"
      ],
      "text/plain": [
       "       created_datetime         brand                        location channel  \\\n",
       "16  2023-11-03 14:46:46  Tepuy Burger  Tepuy Burger - Rodolfo Salazar   glovo   \n",
       "18  2023-11-03 14:40:15  Tepuy Burger         Tepuy Burger - Benidorm   glovo   \n",
       "\n",
       "   order_id_software     status  subtotal  vat  discount software  \n",
       "16          AULRBGNM  Entregado      26.9  0.0       0.0    otter  \n",
       "18          B1YBHZJW  Entregado      51.5  0.0       0.0    otter  "
      ]
     },
     "execution_count": 27,
     "metadata": {},
     "output_type": "execute_result"
    }
   ],
   "source": [
    "otter.head(2)"
   ]
  },
  {
   "cell_type": "code",
   "execution_count": 28,
   "metadata": {},
   "outputs": [
    {
     "data": {
      "text/html": [
       "<div>\n",
       "<style scoped>\n",
       "    .dataframe tbody tr th:only-of-type {\n",
       "        vertical-align: middle;\n",
       "    }\n",
       "\n",
       "    .dataframe tbody tr th {\n",
       "        vertical-align: top;\n",
       "    }\n",
       "\n",
       "    .dataframe thead th {\n",
       "        text-align: right;\n",
       "    }\n",
       "</style>\n",
       "<table border=\"1\" class=\"dataframe\">\n",
       "  <thead>\n",
       "    <tr style=\"text-align: right;\">\n",
       "      <th></th>\n",
       "      <th>created_datetime</th>\n",
       "      <th>location</th>\n",
       "      <th>order_id_software</th>\n",
       "      <th>channel</th>\n",
       "      <th>status</th>\n",
       "      <th>type</th>\n",
       "      <th>payment_method</th>\n",
       "      <th>total</th>\n",
       "      <th>delivery_cost</th>\n",
       "      <th>discount</th>\n",
       "      <th>tip</th>\n",
       "      <th>driver_tip</th>\n",
       "      <th>subtotal</th>\n",
       "      <th>vat</th>\n",
       "      <th>software</th>\n",
       "    </tr>\n",
       "  </thead>\n",
       "  <tbody>\n",
       "    <tr>\n",
       "      <th>0</th>\n",
       "      <td>2023-10-31 21:31:15</td>\n",
       "      <td>Alicante - Bazan</td>\n",
       "      <td>138509659</td>\n",
       "      <td>Just Eat</td>\n",
       "      <td>ACCEPTED</td>\n",
       "      <td>DELIVERY</td>\n",
       "      <td>CARD</td>\n",
       "      <td>85.39</td>\n",
       "      <td>1.99</td>\n",
       "      <td>0.0</td>\n",
       "      <td>0.0</td>\n",
       "      <td>0.0</td>\n",
       "      <td>83.4</td>\n",
       "      <td>7.57</td>\n",
       "      <td>deliverect</td>\n",
       "    </tr>\n",
       "    <tr>\n",
       "      <th>1</th>\n",
       "      <td>2023-10-31 21:02:26</td>\n",
       "      <td>Alicante - Periodista Rodolfo Salazar</td>\n",
       "      <td>138502564</td>\n",
       "      <td>Just Eat</td>\n",
       "      <td>DELIVERED</td>\n",
       "      <td>DELIVERY</td>\n",
       "      <td>CARD</td>\n",
       "      <td>41.89</td>\n",
       "      <td>1.99</td>\n",
       "      <td>0.0</td>\n",
       "      <td>0.0</td>\n",
       "      <td>0.0</td>\n",
       "      <td>39.9</td>\n",
       "      <td>3.62</td>\n",
       "      <td>deliverect</td>\n",
       "    </tr>\n",
       "  </tbody>\n",
       "</table>\n",
       "</div>"
      ],
      "text/plain": [
       "      created_datetime                               location  \\\n",
       "0  2023-10-31 21:31:15                       Alicante - Bazan   \n",
       "1  2023-10-31 21:02:26  Alicante - Periodista Rodolfo Salazar   \n",
       "\n",
       "  order_id_software   channel     status      type payment_method  total  \\\n",
       "0         138509659  Just Eat   ACCEPTED  DELIVERY           CARD  85.39   \n",
       "1         138502564  Just Eat  DELIVERED  DELIVERY           CARD  41.89   \n",
       "\n",
       "   delivery_cost  discount  tip  driver_tip  subtotal   vat    software  \n",
       "0           1.99       0.0  0.0         0.0      83.4  7.57  deliverect  \n",
       "1           1.99       0.0  0.0         0.0      39.9  3.62  deliverect  "
      ]
     },
     "execution_count": 28,
     "metadata": {},
     "output_type": "execute_result"
    }
   ],
   "source": [
    "deliverect.head(2)"
   ]
  },
  {
   "cell_type": "markdown",
   "metadata": {},
   "source": [
    "#### <a id='toc1_1_4_1_'></a>[Total columns unification](#toc0_)\n",
    "Column 'brand' is not in deliverect\n",
    "Columns 'type','payment_method','total','delivery_cost','tip','drivertip' are not in otter. The client give the information to add"
   ]
  },
  {
   "cell_type": "code",
   "execution_count": 29,
   "metadata": {},
   "outputs": [],
   "source": [
    "#New column to deliverect\n",
    "deliverect['brand']= 'Tepuy Burger'\n",
    "deliverect['channel']= 'just_eat'\n",
    "\n",
    "#New columns to otter\n",
    "otter['type']= 'DELIVERY'\n",
    "otter['payment_method']= 'CARD'\n",
    "otter['delivery_cost']= 0\n",
    "otter['total']= otter.subtotal\n",
    "otter['tip']= 0\n",
    "otter['driver_tip']= 0"
   ]
  },
  {
   "cell_type": "markdown",
   "metadata": {},
   "source": [
    "#### <a id='toc1_1_4_2_'></a>[Now we order the columns](#toc0_)"
   ]
  },
  {
   "cell_type": "code",
   "execution_count": 30,
   "metadata": {},
   "outputs": [],
   "source": [
    "otter = otter[['order_id_software', 'created_datetime', 'brand', 'location', 'channel','status', 'type',  'total', 'payment_method', 'delivery_cost', 'discount', 'tip', 'driver_tip', 'subtotal', 'vat', 'software']]"
   ]
  },
  {
   "cell_type": "code",
   "execution_count": 31,
   "metadata": {},
   "outputs": [],
   "source": [
    "deliverect = deliverect[['order_id_software', 'created_datetime', 'brand',  'location', 'channel', 'status', 'type', 'total', 'payment_method','delivery_cost', 'discount', 'tip', 'driver_tip', 'subtotal', 'vat', 'software']]"
   ]
  },
  {
   "cell_type": "code",
   "execution_count": 32,
   "metadata": {},
   "outputs": [
    {
     "name": "stdout",
     "output_type": "stream",
     "text": [
      "<class 'pandas.core.frame.DataFrame'>\n",
      "Index: 60 entries, 16 to 509\n",
      "Data columns (total 16 columns):\n",
      " #   Column             Non-Null Count  Dtype  \n",
      "---  ------             --------------  -----  \n",
      " 0   order_id_software  60 non-null     object \n",
      " 1   created_datetime   60 non-null     object \n",
      " 2   brand              60 non-null     object \n",
      " 3   location           60 non-null     object \n",
      " 4   channel            60 non-null     object \n",
      " 5   status             60 non-null     object \n",
      " 6   type               60 non-null     object \n",
      " 7   total              60 non-null     float64\n",
      " 8   payment_method     60 non-null     object \n",
      " 9   delivery_cost      60 non-null     int64  \n",
      " 10  discount           60 non-null     float64\n",
      " 11  tip                60 non-null     int64  \n",
      " 12  driver_tip         60 non-null     int64  \n",
      " 13  subtotal           60 non-null     float64\n",
      " 14  vat                60 non-null     float64\n",
      " 15  software           60 non-null     object \n",
      "dtypes: float64(4), int64(3), object(9)\n",
      "memory usage: 8.0+ KB\n"
     ]
    }
   ],
   "source": [
    "otter.info()"
   ]
  },
  {
   "cell_type": "code",
   "execution_count": 33,
   "metadata": {},
   "outputs": [
    {
     "name": "stdout",
     "output_type": "stream",
     "text": [
      "<class 'pandas.core.frame.DataFrame'>\n",
      "Index: 61 entries, 0 to 61\n",
      "Data columns (total 16 columns):\n",
      " #   Column             Non-Null Count  Dtype  \n",
      "---  ------             --------------  -----  \n",
      " 0   order_id_software  61 non-null     object \n",
      " 1   created_datetime   61 non-null     object \n",
      " 2   brand              61 non-null     object \n",
      " 3   location           61 non-null     object \n",
      " 4   channel            61 non-null     object \n",
      " 5   status             61 non-null     object \n",
      " 6   type               61 non-null     object \n",
      " 7   total              61 non-null     float64\n",
      " 8   payment_method     61 non-null     object \n",
      " 9   delivery_cost      61 non-null     float64\n",
      " 10  discount           61 non-null     float64\n",
      " 11  tip                61 non-null     float64\n",
      " 12  driver_tip         61 non-null     float64\n",
      " 13  subtotal           61 non-null     float64\n",
      " 14  vat                61 non-null     float64\n",
      " 15  software           61 non-null     object \n",
      "dtypes: float64(7), object(9)\n",
      "memory usage: 8.1+ KB\n"
     ]
    }
   ],
   "source": [
    "deliverect.info()"
   ]
  },
  {
   "cell_type": "markdown",
   "metadata": {},
   "source": [
    "#### <a id='toc1_1_4_3_'></a>[Unification of status column](#toc0_)"
   ]
  },
  {
   "cell_type": "code",
   "execution_count": 34,
   "metadata": {},
   "outputs": [
    {
     "data": {
      "text/plain": [
       "status\n",
       "DELIVERED    57\n",
       "ACCEPTED      4\n",
       "Name: count, dtype: int64"
      ]
     },
     "execution_count": 34,
     "metadata": {},
     "output_type": "execute_result"
    }
   ],
   "source": [
    "deliverect.status.value_counts()"
   ]
  },
  {
   "cell_type": "code",
   "execution_count": 35,
   "metadata": {},
   "outputs": [
    {
     "data": {
      "text/plain": [
       "status\n",
       "Entregado    54\n",
       "Nuevo         5\n",
       "Cancelado     1\n",
       "Name: count, dtype: int64"
      ]
     },
     "execution_count": 35,
     "metadata": {},
     "output_type": "execute_result"
    }
   ],
   "source": [
    "otter.status.value_counts()"
   ]
  },
  {
   "cell_type": "code",
   "execution_count": 36,
   "metadata": {},
   "outputs": [],
   "source": [
    "otter.status = otter.status.str.upper()"
   ]
  },
  {
   "cell_type": "code",
   "execution_count": 37,
   "metadata": {},
   "outputs": [],
   "source": [
    "# Change the values to english\n",
    "otter.status = otter.status.apply(replace_to,  change_for='ENTREGADO', change_to='DELIVERED')\n",
    "otter.status = otter.status.apply(replace_to,  change_for='NUEVO', change_to='NEW')\n",
    "otter.status = otter.status.apply(replace_to,  change_for='CANCELADO', change_to='CANCELED')"
   ]
  },
  {
   "cell_type": "markdown",
   "metadata": {},
   "source": [
    "#### <a id='toc1_1_4_4_'></a>[Unification of location](#toc0_)"
   ]
  },
  {
   "cell_type": "code",
   "execution_count": 38,
   "metadata": {},
   "outputs": [
    {
     "data": {
      "text/plain": [
       "location\n",
       "Tepuy Burger - Rodolfo Salazar    29\n",
       "Tepuy Burger - Benidorm           22\n",
       "Tepuy Burger - Calle Bazan         9\n",
       "Name: count, dtype: int64"
      ]
     },
     "execution_count": 38,
     "metadata": {},
     "output_type": "execute_result"
    }
   ],
   "source": [
    "otter.location.value_counts()"
   ]
  },
  {
   "cell_type": "code",
   "execution_count": 39,
   "metadata": {},
   "outputs": [
    {
     "data": {
      "text/plain": [
       "location\n",
       "Alicante - Bazan                         32\n",
       "Alicante - Periodista Rodolfo Salazar    29\n",
       "Name: count, dtype: int64"
      ]
     },
     "execution_count": 39,
     "metadata": {},
     "output_type": "execute_result"
    }
   ],
   "source": [
    "deliverect.location.value_counts()"
   ]
  },
  {
   "cell_type": "code",
   "execution_count": 40,
   "metadata": {},
   "outputs": [],
   "source": [
    "#Unify values\n",
    "deliverect.location = deliverect.location.apply(replace_to,  change_for='Alicante - Bazan', change_to='Tepuy Burger - Calle Bazan')\n",
    "deliverect.location = deliverect.location.apply(replace_to,  change_for='Alicante - Periodista Rodolfo Salazar', change_to='Tepuy Burger - Rodolfo Salazar')"
   ]
  },
  {
   "cell_type": "code",
   "execution_count": 41,
   "metadata": {},
   "outputs": [
    {
     "data": {
      "text/html": [
       "<div>\n",
       "<style scoped>\n",
       "    .dataframe tbody tr th:only-of-type {\n",
       "        vertical-align: middle;\n",
       "    }\n",
       "\n",
       "    .dataframe tbody tr th {\n",
       "        vertical-align: top;\n",
       "    }\n",
       "\n",
       "    .dataframe thead th {\n",
       "        text-align: right;\n",
       "    }\n",
       "</style>\n",
       "<table border=\"1\" class=\"dataframe\">\n",
       "  <thead>\n",
       "    <tr style=\"text-align: right;\">\n",
       "      <th></th>\n",
       "      <th>order_id_software</th>\n",
       "      <th>created_datetime</th>\n",
       "      <th>brand</th>\n",
       "      <th>location</th>\n",
       "      <th>channel</th>\n",
       "      <th>status</th>\n",
       "      <th>type</th>\n",
       "      <th>total</th>\n",
       "      <th>payment_method</th>\n",
       "      <th>delivery_cost</th>\n",
       "      <th>discount</th>\n",
       "      <th>tip</th>\n",
       "      <th>driver_tip</th>\n",
       "      <th>subtotal</th>\n",
       "      <th>vat</th>\n",
       "      <th>software</th>\n",
       "    </tr>\n",
       "  </thead>\n",
       "  <tbody>\n",
       "    <tr>\n",
       "      <th>16</th>\n",
       "      <td>AULRBGNM</td>\n",
       "      <td>2023-11-03 14:46:46</td>\n",
       "      <td>Tepuy Burger</td>\n",
       "      <td>Tepuy Burger - Rodolfo Salazar</td>\n",
       "      <td>glovo</td>\n",
       "      <td>DELIVERED</td>\n",
       "      <td>DELIVERY</td>\n",
       "      <td>26.9</td>\n",
       "      <td>CARD</td>\n",
       "      <td>0.0</td>\n",
       "      <td>0.0</td>\n",
       "      <td>0.0</td>\n",
       "      <td>0.0</td>\n",
       "      <td>26.9</td>\n",
       "      <td>0.0</td>\n",
       "      <td>otter</td>\n",
       "    </tr>\n",
       "    <tr>\n",
       "      <th>18</th>\n",
       "      <td>B1YBHZJW</td>\n",
       "      <td>2023-11-03 14:40:15</td>\n",
       "      <td>Tepuy Burger</td>\n",
       "      <td>Tepuy Burger - Benidorm</td>\n",
       "      <td>glovo</td>\n",
       "      <td>DELIVERED</td>\n",
       "      <td>DELIVERY</td>\n",
       "      <td>51.5</td>\n",
       "      <td>CARD</td>\n",
       "      <td>0.0</td>\n",
       "      <td>0.0</td>\n",
       "      <td>0.0</td>\n",
       "      <td>0.0</td>\n",
       "      <td>51.5</td>\n",
       "      <td>0.0</td>\n",
       "      <td>otter</td>\n",
       "    </tr>\n",
       "    <tr>\n",
       "      <th>22</th>\n",
       "      <td>ALMVLKTB</td>\n",
       "      <td>2023-11-03 14:23:06</td>\n",
       "      <td>Tepuy Burger</td>\n",
       "      <td>Tepuy Burger - Rodolfo Salazar</td>\n",
       "      <td>glovo</td>\n",
       "      <td>DELIVERED</td>\n",
       "      <td>DELIVERY</td>\n",
       "      <td>26.9</td>\n",
       "      <td>CARD</td>\n",
       "      <td>0.0</td>\n",
       "      <td>0.0</td>\n",
       "      <td>0.0</td>\n",
       "      <td>0.0</td>\n",
       "      <td>26.9</td>\n",
       "      <td>0.0</td>\n",
       "      <td>otter</td>\n",
       "    </tr>\n",
       "    <tr>\n",
       "      <th>50</th>\n",
       "      <td>BXVJAQHE</td>\n",
       "      <td>2023-11-02 22:32:27</td>\n",
       "      <td>Tepuy Burger</td>\n",
       "      <td>Tepuy Burger - Benidorm</td>\n",
       "      <td>glovo</td>\n",
       "      <td>DELIVERED</td>\n",
       "      <td>DELIVERY</td>\n",
       "      <td>40.9</td>\n",
       "      <td>CARD</td>\n",
       "      <td>0.0</td>\n",
       "      <td>0.0</td>\n",
       "      <td>0.0</td>\n",
       "      <td>0.0</td>\n",
       "      <td>40.9</td>\n",
       "      <td>0.0</td>\n",
       "      <td>otter</td>\n",
       "    </tr>\n",
       "    <tr>\n",
       "      <th>53</th>\n",
       "      <td>ABUGGFKZ</td>\n",
       "      <td>2023-11-02 22:28:20</td>\n",
       "      <td>Tepuy Burger</td>\n",
       "      <td>Tepuy Burger - Calle Bazan</td>\n",
       "      <td>glovo</td>\n",
       "      <td>CANCELED</td>\n",
       "      <td>DELIVERY</td>\n",
       "      <td>20.4</td>\n",
       "      <td>CARD</td>\n",
       "      <td>0.0</td>\n",
       "      <td>0.0</td>\n",
       "      <td>0.0</td>\n",
       "      <td>0.0</td>\n",
       "      <td>20.4</td>\n",
       "      <td>0.0</td>\n",
       "      <td>otter</td>\n",
       "    </tr>\n",
       "  </tbody>\n",
       "</table>\n",
       "</div>"
      ],
      "text/plain": [
       "   order_id_software     created_datetime         brand  \\\n",
       "16          AULRBGNM  2023-11-03 14:46:46  Tepuy Burger   \n",
       "18          B1YBHZJW  2023-11-03 14:40:15  Tepuy Burger   \n",
       "22          ALMVLKTB  2023-11-03 14:23:06  Tepuy Burger   \n",
       "50          BXVJAQHE  2023-11-02 22:32:27  Tepuy Burger   \n",
       "53          ABUGGFKZ  2023-11-02 22:28:20  Tepuy Burger   \n",
       "\n",
       "                          location channel     status      type  total  \\\n",
       "16  Tepuy Burger - Rodolfo Salazar   glovo  DELIVERED  DELIVERY   26.9   \n",
       "18         Tepuy Burger - Benidorm   glovo  DELIVERED  DELIVERY   51.5   \n",
       "22  Tepuy Burger - Rodolfo Salazar   glovo  DELIVERED  DELIVERY   26.9   \n",
       "50         Tepuy Burger - Benidorm   glovo  DELIVERED  DELIVERY   40.9   \n",
       "53      Tepuy Burger - Calle Bazan   glovo   CANCELED  DELIVERY   20.4   \n",
       "\n",
       "   payment_method  delivery_cost  discount  tip  driver_tip  subtotal  vat  \\\n",
       "16           CARD            0.0       0.0  0.0         0.0      26.9  0.0   \n",
       "18           CARD            0.0       0.0  0.0         0.0      51.5  0.0   \n",
       "22           CARD            0.0       0.0  0.0         0.0      26.9  0.0   \n",
       "50           CARD            0.0       0.0  0.0         0.0      40.9  0.0   \n",
       "53           CARD            0.0       0.0  0.0         0.0      20.4  0.0   \n",
       "\n",
       "   software  \n",
       "16    otter  \n",
       "18    otter  \n",
       "22    otter  \n",
       "50    otter  \n",
       "53    otter  "
      ]
     },
     "execution_count": 41,
     "metadata": {},
     "output_type": "execute_result"
    }
   ],
   "source": [
    "all = pd.concat([otter, deliverect])\n",
    "\n",
    "all.head()"
   ]
  },
  {
   "cell_type": "markdown",
   "metadata": {},
   "source": [
    "### <a id='toc1_1_5_'></a>[Export DataFrame](#toc0_)"
   ]
  },
  {
   "cell_type": "code",
   "execution_count": 42,
   "metadata": {},
   "outputs": [],
   "source": [
    "all.to_csv('../../data/2-processed/data.csv', index=False)"
   ]
  }
 ],
 "metadata": {
  "kernelspec": {
   "display_name": "clase",
   "language": "python",
   "name": "python3"
  },
  "language_info": {
   "codemirror_mode": {
    "name": "ipython",
    "version": 3
   },
   "file_extension": ".py",
   "mimetype": "text/x-python",
   "name": "python",
   "nbconvert_exporter": "python",
   "pygments_lexer": "ipython3",
   "version": "3.10.13"
  }
 },
 "nbformat": 4,
 "nbformat_minor": 5
}
