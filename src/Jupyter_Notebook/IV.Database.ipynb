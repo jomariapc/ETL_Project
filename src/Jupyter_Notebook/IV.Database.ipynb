{
 "cells": [
  {
   "cell_type": "markdown",
   "metadata": {},
   "source": [
    "# IV. Database"
   ]
  },
  {
   "cell_type": "markdown",
   "metadata": {},
   "source": [
    "Indice"
   ]
  },
  {
   "cell_type": "markdown",
   "metadata": {},
   "source": [
    "### Import Libraries and PyPower.py "
   ]
  },
  {
   "cell_type": "code",
   "execution_count": 12,
   "id": "e6ffc856-cf51-4432-ac6f-8b894cc8a561",
   "metadata": {},
   "outputs": [],
   "source": [
    "import pandas as pd\n",
    "from sys import displayhook\n",
    "import sys\n",
    "sys.path.append('../Python')\n",
    "from  PyPower import *"
   ]
  },
  {
   "cell_type": "markdown",
   "metadata": {},
   "source": [
    "### DataFrame analysis"
   ]
  },
  {
   "cell_type": "code",
   "execution_count": 13,
   "metadata": {},
   "outputs": [
    {
     "data": {
      "text/html": [
       "<div>\n",
       "<style scoped>\n",
       "    .dataframe tbody tr th:only-of-type {\n",
       "        vertical-align: middle;\n",
       "    }\n",
       "\n",
       "    .dataframe tbody tr th {\n",
       "        vertical-align: top;\n",
       "    }\n",
       "\n",
       "    .dataframe thead th {\n",
       "        text-align: right;\n",
       "    }\n",
       "</style>\n",
       "<table border=\"1\" class=\"dataframe\">\n",
       "  <thead>\n",
       "    <tr style=\"text-align: right;\">\n",
       "      <th></th>\n",
       "      <th>order_id</th>\n",
       "      <th>created_datetime</th>\n",
       "      <th>brand</th>\n",
       "      <th>location</th>\n",
       "      <th>channel</th>\n",
       "      <th>status</th>\n",
       "      <th>type</th>\n",
       "      <th>total</th>\n",
       "      <th>payment_method</th>\n",
       "      <th>delivery_cost</th>\n",
       "      <th>discount</th>\n",
       "      <th>tip</th>\n",
       "      <th>driver_tip</th>\n",
       "      <th>subtotal</th>\n",
       "      <th>vat</th>\n",
       "    </tr>\n",
       "  </thead>\n",
       "  <tbody>\n",
       "    <tr>\n",
       "      <th>0</th>\n",
       "      <td>AULRBGNM</td>\n",
       "      <td>2023-11-03 14:46:46</td>\n",
       "      <td>Tepuy Burger</td>\n",
       "      <td>Tepuy Burger - Rodolfo Salazar</td>\n",
       "      <td>glovo</td>\n",
       "      <td>DELIVERED</td>\n",
       "      <td>DELIVERY</td>\n",
       "      <td>26.9</td>\n",
       "      <td>CARD</td>\n",
       "      <td>0.0</td>\n",
       "      <td>0.0</td>\n",
       "      <td>0.0</td>\n",
       "      <td>0.0</td>\n",
       "      <td>26.9</td>\n",
       "      <td>0.0</td>\n",
       "    </tr>\n",
       "    <tr>\n",
       "      <th>1</th>\n",
       "      <td>B1YBHZJW</td>\n",
       "      <td>2023-11-03 14:40:15</td>\n",
       "      <td>Tepuy Burger</td>\n",
       "      <td>Tepuy Burger - Benidorm</td>\n",
       "      <td>glovo</td>\n",
       "      <td>DELIVERED</td>\n",
       "      <td>DELIVERY</td>\n",
       "      <td>51.5</td>\n",
       "      <td>CARD</td>\n",
       "      <td>0.0</td>\n",
       "      <td>0.0</td>\n",
       "      <td>0.0</td>\n",
       "      <td>0.0</td>\n",
       "      <td>51.5</td>\n",
       "      <td>0.0</td>\n",
       "    </tr>\n",
       "    <tr>\n",
       "      <th>2</th>\n",
       "      <td>ALMVLKTB</td>\n",
       "      <td>2023-11-03 14:23:06</td>\n",
       "      <td>Tepuy Burger</td>\n",
       "      <td>Tepuy Burger - Rodolfo Salazar</td>\n",
       "      <td>glovo</td>\n",
       "      <td>DELIVERED</td>\n",
       "      <td>DELIVERY</td>\n",
       "      <td>26.9</td>\n",
       "      <td>CARD</td>\n",
       "      <td>0.0</td>\n",
       "      <td>0.0</td>\n",
       "      <td>0.0</td>\n",
       "      <td>0.0</td>\n",
       "      <td>26.9</td>\n",
       "      <td>0.0</td>\n",
       "    </tr>\n",
       "    <tr>\n",
       "      <th>3</th>\n",
       "      <td>BXVJAQHE</td>\n",
       "      <td>2023-11-02 22:32:27</td>\n",
       "      <td>Tepuy Burger</td>\n",
       "      <td>Tepuy Burger - Benidorm</td>\n",
       "      <td>glovo</td>\n",
       "      <td>DELIVERED</td>\n",
       "      <td>DELIVERY</td>\n",
       "      <td>40.9</td>\n",
       "      <td>CARD</td>\n",
       "      <td>0.0</td>\n",
       "      <td>0.0</td>\n",
       "      <td>0.0</td>\n",
       "      <td>0.0</td>\n",
       "      <td>40.9</td>\n",
       "      <td>0.0</td>\n",
       "    </tr>\n",
       "    <tr>\n",
       "      <th>4</th>\n",
       "      <td>ABUGGFKZ</td>\n",
       "      <td>2023-11-02 22:28:20</td>\n",
       "      <td>Tepuy Burger</td>\n",
       "      <td>Tepuy Burger - Calle Bazan</td>\n",
       "      <td>glovo</td>\n",
       "      <td>CANCELED</td>\n",
       "      <td>DELIVERY</td>\n",
       "      <td>20.4</td>\n",
       "      <td>CARD</td>\n",
       "      <td>0.0</td>\n",
       "      <td>0.0</td>\n",
       "      <td>0.0</td>\n",
       "      <td>0.0</td>\n",
       "      <td>20.4</td>\n",
       "      <td>0.0</td>\n",
       "    </tr>\n",
       "  </tbody>\n",
       "</table>\n",
       "</div>"
      ],
      "text/plain": [
       "   order_id     created_datetime         brand  \\\n",
       "0  AULRBGNM  2023-11-03 14:46:46  Tepuy Burger   \n",
       "1  B1YBHZJW  2023-11-03 14:40:15  Tepuy Burger   \n",
       "2  ALMVLKTB  2023-11-03 14:23:06  Tepuy Burger   \n",
       "3  BXVJAQHE  2023-11-02 22:32:27  Tepuy Burger   \n",
       "4  ABUGGFKZ  2023-11-02 22:28:20  Tepuy Burger   \n",
       "\n",
       "                         location channel     status      type  total  \\\n",
       "0  Tepuy Burger - Rodolfo Salazar   glovo  DELIVERED  DELIVERY   26.9   \n",
       "1         Tepuy Burger - Benidorm   glovo  DELIVERED  DELIVERY   51.5   \n",
       "2  Tepuy Burger - Rodolfo Salazar   glovo  DELIVERED  DELIVERY   26.9   \n",
       "3         Tepuy Burger - Benidorm   glovo  DELIVERED  DELIVERY   40.9   \n",
       "4      Tepuy Burger - Calle Bazan   glovo   CANCELED  DELIVERY   20.4   \n",
       "\n",
       "  payment_method  delivery_cost  discount  tip  driver_tip  subtotal  vat  \n",
       "0           CARD            0.0       0.0  0.0         0.0      26.9  0.0  \n",
       "1           CARD            0.0       0.0  0.0         0.0      51.5  0.0  \n",
       "2           CARD            0.0       0.0  0.0         0.0      26.9  0.0  \n",
       "3           CARD            0.0       0.0  0.0         0.0      40.9  0.0  \n",
       "4           CARD            0.0       0.0  0.0         0.0      20.4  0.0  "
      ]
     },
     "execution_count": 13,
     "metadata": {},
     "output_type": "execute_result"
    }
   ],
   "source": [
    "data  = pd.read_csv('../../data/2-processed/data.csv')\n",
    "original_shape= data.shape\n",
    "data.head()"
   ]
  },
  {
   "cell_type": "code",
   "execution_count": null,
   "metadata": {},
   "outputs": [],
   "source": []
  },
  {
   "cell_type": "code",
   "execution_count": 14,
   "metadata": {},
   "outputs": [],
   "source": [
    "#Codigo para llenar film_id a old_HDD comparando con Title\n",
    "\n",
    "#old_HDD = old_HDD.apply(sc.fill_column, df_to_compare=film, column_to_compare='title', column_to_change='film_id', axis=1)\n"
   ]
  },
  {
   "cell_type": "code",
   "execution_count": null,
   "metadata": {},
   "outputs": [],
   "source": []
  },
  {
   "cell_type": "markdown",
   "metadata": {},
   "source": [
    "### New tables"
   ]
  },
  {
   "cell_type": "markdown",
   "metadata": {},
   "source": [
    "#### Brand table"
   ]
  },
  {
   "cell_type": "code",
   "execution_count": 32,
   "metadata": {},
   "outputs": [],
   "source": [
    "def new_table1(df_from, column_to_check, create_id, id_column_name, column_name,  id_list=[]):\n",
    "\n",
    "    \"\"\"\n",
    "    \n",
    "    \n",
    "    \"\"\"\n",
    "    #Read the values of the column_to_check\n",
    "    dd=[]\n",
    "\n",
    "    for e in df_from[column_to_check]:\n",
    "        if e not in dd:\n",
    "            dd.append(e)\n",
    "    \n",
    "\n",
    "    print(dd)\n",
    "\n",
    "    #If create_id then create a list of consecutive values for the id\n",
    "    if create_id:\n",
    "        ids=[]\n",
    "\n",
    "        for e in range(len(dd)):\n",
    "            ids.append(str(e))\n",
    "\n",
    "    elif not create_id:\n",
    "        ids= id_list\n",
    "\n",
    "    #Create a dictionary with both lists\n",
    "    dict_temp= {id_column_name: ids, column_name: dd}\n",
    "\n",
    "    return pd.DataFrame(dict_temp)"
   ]
  },
  {
   "cell_type": "code",
   "execution_count": 33,
   "metadata": {},
   "outputs": [
    {
     "name": "stdout",
     "output_type": "stream",
     "text": [
      "['Tepuy Burger']\n"
     ]
    }
   ],
   "source": [
    "brands = new_table1(data, 'brand', True, 'brand_id','brand')"
   ]
  },
  {
   "cell_type": "code",
   "execution_count": 34,
   "metadata": {},
   "outputs": [
    {
     "data": {
      "text/html": [
       "<div>\n",
       "<style scoped>\n",
       "    .dataframe tbody tr th:only-of-type {\n",
       "        vertical-align: middle;\n",
       "    }\n",
       "\n",
       "    .dataframe tbody tr th {\n",
       "        vertical-align: top;\n",
       "    }\n",
       "\n",
       "    .dataframe thead th {\n",
       "        text-align: right;\n",
       "    }\n",
       "</style>\n",
       "<table border=\"1\" class=\"dataframe\">\n",
       "  <thead>\n",
       "    <tr style=\"text-align: right;\">\n",
       "      <th></th>\n",
       "      <th>brand_id</th>\n",
       "      <th>brand</th>\n",
       "    </tr>\n",
       "  </thead>\n",
       "  <tbody>\n",
       "    <tr>\n",
       "      <th>0</th>\n",
       "      <td>0</td>\n",
       "      <td>Tepuy Burger</td>\n",
       "    </tr>\n",
       "  </tbody>\n",
       "</table>\n",
       "</div>"
      ],
      "text/plain": [
       "  brand_id         brand\n",
       "0        0  Tepuy Burger"
      ]
     },
     "execution_count": 34,
     "metadata": {},
     "output_type": "execute_result"
    }
   ],
   "source": [
    "brands"
   ]
  },
  {
   "cell_type": "code",
   "execution_count": null,
   "metadata": {},
   "outputs": [],
   "source": []
  }
 ],
 "metadata": {
  "kernelspec": {
   "display_name": "clase",
   "language": "python",
   "name": "python3"
  },
  "language_info": {
   "codemirror_mode": {
    "name": "ipython",
    "version": 3
   },
   "file_extension": ".py",
   "mimetype": "text/x-python",
   "name": "python",
   "nbconvert_exporter": "python",
   "pygments_lexer": "ipython3",
   "version": "3.10.13"
  }
 },
 "nbformat": 4,
 "nbformat_minor": 5
}
