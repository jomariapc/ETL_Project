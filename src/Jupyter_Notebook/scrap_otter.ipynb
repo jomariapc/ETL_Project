{
 "cells": [
  {
   "cell_type": "code",
   "execution_count": 1,
   "metadata": {},
   "outputs": [],
   "source": [
    "import pandas as pd\n",
    "\n",
    "import time\n",
    "\n",
    "import warnings\n",
    "\n",
    "import os\n",
    "\n",
    "warnings.filterwarnings('ignore')\n",
    "\n",
    "from selenium import webdriver\n",
    "\n",
    "from selenium.webdriver.common.by import By"
   ]
  },
  {
   "cell_type": "code",
   "execution_count": 2,
   "metadata": {},
   "outputs": [],
   "source": [
    "from selenium.webdriver.chrome.options import Options\n",
    "\n",
    "# opciones del driver\n",
    "opciones=Options()\n",
    "\n",
    "# quita la bandera de ser robot\n",
    "opciones.add_experimental_option('excludeSwitches', ['enable-automation'])\n",
    "opciones.add_experimental_option('useAutomationExtension', False)\n",
    "\n",
    "opciones.add_experimental_option(\"detach\", True)\n",
    "\n",
    "\n",
    "opciones.add_argument(r'user-data-dir=C:\\Users\\Mjp\\Documents\\IronhackLocal\\0-Projects\\ETL_Project\\src\\cookies')   \n"
   ]
  },
  {
   "cell_type": "code",
   "execution_count": 3,
   "metadata": {},
   "outputs": [],
   "source": [
    "#Entrar a la web con las cookies\n",
    "\n",
    "driver = webdriver.Chrome(executable_path=r'C:\\Users\\Mjp\\Documents\\IronhackLocal\\0-Projects\\ETL_Project\\driver\\chromedriver.exe', options=opciones)"
   ]
  },
  {
   "cell_type": "code",
   "execution_count": 4,
   "metadata": {},
   "outputs": [],
   "source": [
    "url='https://manager.tryotter.com/analytics/reports/order-details'\n",
    "\n",
    "driver.get(url)\n",
    "\n",
    "#OJO M: tarda mucho en cargar así que pon un time.sleep de unos 10 segundos"
   ]
  },
  {
   "cell_type": "markdown",
   "metadata": {},
   "source": [
    "#### Seleccionar tiempo: mes hasta la fecha"
   ]
  },
  {
   "cell_type": "code",
   "execution_count": 5,
   "metadata": {},
   "outputs": [],
   "source": [
    "def recorrer_click(objeto, texto_comparacion):\n",
    "    \"\"\"\n",
    "     \n",
    "    Función que recorre el objeto con los botones y en cuanto encuentra el texto que recibe, entonces hace click  \n",
    "       \n",
    "     \"\"\"\n",
    "    for o in objeto:\n",
    "\n",
    "        if(o.text==texto_comparacion):\n",
    "\n",
    "            o.click()\n",
    "        "
   ]
  },
  {
   "cell_type": "code",
   "execution_count": 6,
   "metadata": {},
   "outputs": [],
   "source": [
    "#Abrir opciones de fechas\n",
    "\n",
    "cabecera = driver.find_element(By.XPATH, '//*[@id=\"heading-slot\"]')\n",
    "\n",
    "time.sleep(2)\n",
    "\n",
    "#Seleccionar Botón que dice \"Últimos 7 días\"\n",
    "\n",
    "recorrer_click(cabecera.find_elements(By.XPATH, '//div//button'), 'Últimos 7 días')\n",
    "\n",
    "time.sleep(2)\n",
    "\n",
    "#Seleccionar \"Mes hasta la fecha\"\n",
    "caja= cabecera.find_elements(By.XPATH, '//div//ul//li')\n",
    "\n",
    "recorrer_click(caja, 'Mes hasta la fecha')\n",
    "\n",
    "time.sleep(2)"
   ]
  },
  {
   "cell_type": "code",
   "execution_count": 22,
   "metadata": {},
   "outputs": [],
   "source": [
    "#CLICK EN BOTÓN EXPORTAR (A través de data-testid que suele ser un atributo constante)\n",
    "\n",
    "driver.find_element(By.CSS_SELECTOR, '[data-testid=\"export-button\"]').click()\n"
   ]
  },
  {
   "cell_type": "code",
   "execution_count": 39,
   "metadata": {},
   "outputs": [],
   "source": [
    "#CLICK EN CSV \n",
    "caja_opciones_exportar = driver.find_elements(By.CSS_SELECTOR, '[data-testid=\"export-button-panel-content\"]')\n",
    "\n",
    "botones_exportar = driver.find_elements(By.CSS_SELECTOR, '[data-testid=\"csds-menu-item\"]' )\n",
    "\n",
    "#recorrer_click(caja_opciones_exportar, 'CSV')\n",
    "\n",
    "for o in caja_opciones_exportar:\n",
    "\n",
    "    try:\n",
    "        o.click()\n",
    "\n",
    "    except:\n",
    "        print('Fallo en la exportación')"
   ]
  },
  {
   "cell_type": "code",
   "execution_count": 40,
   "metadata": {},
   "outputs": [],
   "source": [
    "#Inicio Código ChatGPT\n",
    "\n",
    "# Obtener la lista de archivos CSV en el directorio de descargas\n",
    "archivos_csv = [archivo for archivo in os.listdir(r'C:\\Users\\Mjp\\Downloads') if archivo.endswith('.csv')]\n",
    "\n",
    "if archivos_csv:\n",
    "    ultimo_archivo = max(archivos_csv, key=lambda x: os.path.getmtime(os.path.join(r'C:\\Users\\Mjp\\Downloads', x)))\n",
    "    ruta_ultimo_archivo = os.path.join(r'C:\\Users\\Mjp\\Downloads', ultimo_archivo)\n",
    "\n",
    "    #Fin Código ChatGPT\n",
    "    #Uso pandas para poder guardar el archivo con el nombre que yo quiera (esto es código personal)\n",
    "    df= pd.read_csv(ruta_ultimo_archivo)\n",
    "\n",
    "    df.to_csv('../data/0-raw/otter_all.csv')\n",
    "    \n",
    "else:\n",
    "    print(\"No se encontraron archivos CSV en la carpeta de descargas.\")\n"
   ]
  },
  {
   "cell_type": "code",
   "execution_count": 8,
   "metadata": {},
   "outputs": [],
   "source": [
    "driver.quit()"
   ]
  }
 ],
 "metadata": {
  "kernelspec": {
   "display_name": "clase",
   "language": "python",
   "name": "python3"
  },
  "language_info": {
   "codemirror_mode": {
    "name": "ipython",
    "version": 3
   },
   "file_extension": ".py",
   "mimetype": "text/x-python",
   "name": "python",
   "nbconvert_exporter": "python",
   "pygments_lexer": "ipython3",
   "version": "3.10.13"
  }
 },
 "nbformat": 4,
 "nbformat_minor": 2
}
