{
 "cells": [
  {
   "cell_type": "code",
   "execution_count": 176,
   "metadata": {},
   "outputs": [],
   "source": [
    "import pandas as pd\n",
    "\n",
    "import time\n",
    "\n",
    "import warnings\n",
    "\n",
    "import os\n",
    "\n",
    "import shutil\n",
    "\n",
    "warnings.filterwarnings('ignore')\n",
    "\n",
    "from selenium import webdriver\n",
    "\n",
    "from selenium.webdriver.common.by import By"
   ]
  },
  {
   "cell_type": "code",
   "execution_count": 109,
   "metadata": {},
   "outputs": [],
   "source": [
    "from selenium.webdriver.chrome.options import Options\n",
    "\n",
    "# opciones del driver\n",
    "opciones=Options()\n",
    "\n",
    "# quita la bandera de ser robot\n",
    "opciones.add_experimental_option('excludeSwitches', ['enable-automation'])\n",
    "opciones.add_experimental_option('useAutomationExtension', False)\n",
    "\n",
    "opciones.add_experimental_option(\"detach\", True)\n",
    "\n",
    "\n",
    "opciones.add_argument(r'user-data-dir=C:\\Users\\Mjp\\Documents\\IronhackLocal\\0-Projects\\ETL_Project\\src\\cookies')   \n"
   ]
  },
  {
   "cell_type": "code",
   "execution_count": 156,
   "metadata": {},
   "outputs": [],
   "source": [
    "#Entrar a la web con las cookies\n",
    "\n",
    "driver = webdriver.Chrome(executable_path=r'C:\\Users\\Mjp\\Documents\\IronhackLocal\\0-Projects\\ETL_Project\\driver\\chromedriver.exe', options=opciones)"
   ]
  },
  {
   "cell_type": "code",
   "execution_count": 157,
   "metadata": {},
   "outputs": [],
   "source": [
    "url='https://manager.tryotter.com/analytics/reports/order-details'\n",
    "\n",
    "driver.get(url)\n",
    "\n",
    "#OJO M: tarda mucho en cargar así que pon un time.sleep de unos 10 segundos"
   ]
  },
  {
   "cell_type": "markdown",
   "metadata": {},
   "source": [
    "#### Seleccionar tiempo: mes hasta la fecha"
   ]
  },
  {
   "cell_type": "code",
   "execution_count": 158,
   "metadata": {},
   "outputs": [],
   "source": [
    "def recorrer_click(objeto, texto_comparacion):\n",
    "    \"\"\"\n",
    "     \n",
    "    Función que recorre el objeto con los botones y en cuanto encuentra el texto que recibe, entonces hace click  \n",
    "       \n",
    "     \"\"\"\n",
    "    for o in objeto:\n",
    "\n",
    "        if(o.text==texto_comparacion):\n",
    "\n",
    "            o.click()\n",
    "        "
   ]
  },
  {
   "cell_type": "code",
   "execution_count": 159,
   "metadata": {},
   "outputs": [],
   "source": [
    "#Abrir opciones de fechas\n",
    "\n",
    "cabecera = driver.find_element(By.XPATH, '//*[@id=\"heading-slot\"]')\n",
    "\n",
    "time.sleep(2)\n",
    "\n",
    "#Seleccionar Botón que dice \"Últimos 7 días\"\n",
    "\n",
    "recorrer_click(cabecera.find_elements(By.XPATH, '//div//button'), 'Últimos 7 días')\n",
    "\n",
    "time.sleep(2)"
   ]
  },
  {
   "cell_type": "code",
   "execution_count": 160,
   "metadata": {},
   "outputs": [],
   "source": [
    "#Seleccionar \"Mes hasta la fecha\"\n",
    "caja= cabecera.find_elements(By.XPATH, '//div//ul//li')\n",
    "\n",
    "recorrer_click(caja, 'Mes hasta la fecha')\n",
    "\n",
    "time.sleep(2)"
   ]
  },
  {
   "cell_type": "code",
   "execution_count": 163,
   "metadata": {},
   "outputs": [],
   "source": [
    "#Seleccionar Botón \"Exportar\" -- NO FUNCIONA\n",
    "\n",
    "#recorrer_click(cabecera.find_elements(By.XPATH, '//div//button'), 'Exportar')"
   ]
  },
  {
   "cell_type": "code",
   "execution_count": 169,
   "metadata": {},
   "outputs": [],
   "source": [
    "#Click en exportar que al parecer, funciona\n",
    "driver.find_element(By.CLASS_NAME, 'sc-cmwZdj.hmyMMQ').click()"
   ]
  },
  {
   "cell_type": "code",
   "execution_count": 177,
   "metadata": {},
   "outputs": [],
   "source": [
    "#Cödigo de ChatGPT\n",
    "\n",
    "# Obtener la lista de archivos CSV en el directorio de descargas\n",
    "archivos_csv = [archivo for archivo in os.listdir(r'C:\\Users\\Mjp\\Downloads') if archivo.endswith('.csv')]\n",
    "\n",
    "if archivos_csv:\n",
    "    ultimo_archivo = max(archivos_csv, key=lambda x: os.path.getmtime(os.path.join(r'C:\\Users\\Mjp\\Downloads', x)))\n",
    "    ruta_ultimo_archivo = os.path.join(r'C:\\Users\\Mjp\\Downloads', ultimo_archivo)\n",
    "\n",
    "    #Guardar con shutil el archivo en la ruta del proyecto\n",
    "    shutil.copy(ruta_ultimo_archivo, r'C:/Users/Mjp/Documents/IronhackLocal/0-Projects/ETL_Project/data/0-raw')\n",
    "    \n",
    "else:\n",
    "    print(\"No se encontraron archivos CSV en la carpeta de descargas.\")\n"
   ]
  },
  {
   "cell_type": "code",
   "execution_count": 8,
   "metadata": {},
   "outputs": [],
   "source": [
    "driver.quit()"
   ]
  }
 ],
 "metadata": {
  "kernelspec": {
   "display_name": "clase",
   "language": "python",
   "name": "python3"
  },
  "language_info": {
   "codemirror_mode": {
    "name": "ipython",
    "version": 3
   },
   "file_extension": ".py",
   "mimetype": "text/x-python",
   "name": "python",
   "nbconvert_exporter": "python",
   "pygments_lexer": "ipython3",
   "version": "3.10.13"
  }
 },
 "nbformat": 4,
 "nbformat_minor": 2
}
